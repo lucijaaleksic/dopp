{
 "cells": [
  {
   "cell_type": "markdown",
   "metadata": {},
   "source": [
    "# UFC Dataset analysis\n",
    "\n",
    "## Exploaratory data analysis\n",
    "\n",
    "In this section we'll perform some exploratory data analysis on the dataset. We'll look at important features, their distribution and other interesting patterns in the data."
   ]
  },
  {
   "cell_type": "code",
   "execution_count": 96,
   "metadata": {},
   "outputs": [],
   "source": [
    "import numpy as np # linear algebra\n",
    "import pandas as pd # data processing, CSV file I/O (e.g. pd.read_csv)\n",
    "import os\n",
    "import matplotlib.pyplot as plt\n",
    "import seaborn as sns"
   ]
  },
  {
   "cell_type": "code",
   "execution_count": 69,
   "metadata": {},
   "outputs": [
    {
     "data": {
      "text/html": [
       "<div>\n",
       "<style scoped>\n",
       "    .dataframe tbody tr th:only-of-type {\n",
       "        vertical-align: middle;\n",
       "    }\n",
       "\n",
       "    .dataframe tbody tr th {\n",
       "        vertical-align: top;\n",
       "    }\n",
       "\n",
       "    .dataframe thead th {\n",
       "        text-align: right;\n",
       "    }\n",
       "</style>\n",
       "<table border=\"1\" class=\"dataframe\">\n",
       "  <thead>\n",
       "    <tr style=\"text-align: right;\">\n",
       "      <th></th>\n",
       "      <th>red_fighter_name</th>\n",
       "      <th>blue_fighter_name</th>\n",
       "      <th>event_date</th>\n",
       "      <th>red_fighter_nickname</th>\n",
       "      <th>blue_fighter_nickname</th>\n",
       "      <th>red_fighter_result</th>\n",
       "      <th>blue_fighter_result</th>\n",
       "      <th>method</th>\n",
       "      <th>round</th>\n",
       "      <th>time</th>\n",
       "      <th>...</th>\n",
       "      <th>red_fighter_sig_str_body_pct</th>\n",
       "      <th>blue_fighter_sig_str_body_pct</th>\n",
       "      <th>red_fighter_sig_str_leg_pct</th>\n",
       "      <th>blue_fighter_sig_str_leg_pct</th>\n",
       "      <th>red_fighter_sig_str_distance_pct</th>\n",
       "      <th>blue_fighter_sig_str_distance_pct</th>\n",
       "      <th>red_fighter_sig_str_clinch_pct</th>\n",
       "      <th>blue_fighter_sig_str_clinch_pct</th>\n",
       "      <th>red_fighter_sig_str_ground_pct</th>\n",
       "      <th>blue_fighter_sig_str_ground_pct</th>\n",
       "    </tr>\n",
       "  </thead>\n",
       "  <tbody>\n",
       "    <tr>\n",
       "      <th>0</th>\n",
       "      <td>ILIA TOPURIA</td>\n",
       "      <td>MAX HOLLOWAY</td>\n",
       "      <td>26/10/2024</td>\n",
       "      <td>El Matador</td>\n",
       "      <td>Blessed</td>\n",
       "      <td>W</td>\n",
       "      <td>L</td>\n",
       "      <td>KO/TKO</td>\n",
       "      <td>3</td>\n",
       "      <td>1:34</td>\n",
       "      <td>...</td>\n",
       "      <td>14</td>\n",
       "      <td>16</td>\n",
       "      <td>20</td>\n",
       "      <td>24</td>\n",
       "      <td>94</td>\n",
       "      <td>100</td>\n",
       "      <td>0</td>\n",
       "      <td>0</td>\n",
       "      <td>5</td>\n",
       "      <td>0</td>\n",
       "    </tr>\n",
       "    <tr>\n",
       "      <th>1</th>\n",
       "      <td>ROBERT WHITTAKER</td>\n",
       "      <td>KHAMZAT CHIMAEV</td>\n",
       "      <td>26/10/2024</td>\n",
       "      <td>The Reaper</td>\n",
       "      <td>Borz</td>\n",
       "      <td>L</td>\n",
       "      <td>W</td>\n",
       "      <td>Submission</td>\n",
       "      <td>1</td>\n",
       "      <td>3:34</td>\n",
       "      <td>...</td>\n",
       "      <td>0</td>\n",
       "      <td>33</td>\n",
       "      <td>100</td>\n",
       "      <td>0</td>\n",
       "      <td>100</td>\n",
       "      <td>0</td>\n",
       "      <td>0</td>\n",
       "      <td>0</td>\n",
       "      <td>0</td>\n",
       "      <td>100</td>\n",
       "    </tr>\n",
       "    <tr>\n",
       "      <th>2</th>\n",
       "      <td>MAGOMED ANKALAEV</td>\n",
       "      <td>ALEKSANDAR RAKIC</td>\n",
       "      <td>26/10/2024</td>\n",
       "      <td>-</td>\n",
       "      <td>Rocket</td>\n",
       "      <td>W</td>\n",
       "      <td>L</td>\n",
       "      <td>Decision - Unanimous</td>\n",
       "      <td>3</td>\n",
       "      <td>5:00</td>\n",
       "      <td>...</td>\n",
       "      <td>40</td>\n",
       "      <td>16</td>\n",
       "      <td>23</td>\n",
       "      <td>64</td>\n",
       "      <td>90</td>\n",
       "      <td>94</td>\n",
       "      <td>9</td>\n",
       "      <td>5</td>\n",
       "      <td>0</td>\n",
       "      <td>0</td>\n",
       "    </tr>\n",
       "    <tr>\n",
       "      <th>3</th>\n",
       "      <td>LERONE MURPHY</td>\n",
       "      <td>DAN IGE</td>\n",
       "      <td>26/10/2024</td>\n",
       "      <td>The Miracle</td>\n",
       "      <td>50K</td>\n",
       "      <td>W</td>\n",
       "      <td>L</td>\n",
       "      <td>Decision - Unanimous</td>\n",
       "      <td>3</td>\n",
       "      <td>5:00</td>\n",
       "      <td>...</td>\n",
       "      <td>23</td>\n",
       "      <td>10</td>\n",
       "      <td>7</td>\n",
       "      <td>13</td>\n",
       "      <td>71</td>\n",
       "      <td>69</td>\n",
       "      <td>23</td>\n",
       "      <td>13</td>\n",
       "      <td>5</td>\n",
       "      <td>17</td>\n",
       "    </tr>\n",
       "    <tr>\n",
       "      <th>4</th>\n",
       "      <td>SHARA MAGOMEDOV</td>\n",
       "      <td>ARMEN PETROSYAN</td>\n",
       "      <td>26/10/2024</td>\n",
       "      <td>Bullet</td>\n",
       "      <td>Superman</td>\n",
       "      <td>W</td>\n",
       "      <td>L</td>\n",
       "      <td>KO/TKO</td>\n",
       "      <td>2</td>\n",
       "      <td>4:52</td>\n",
       "      <td>...</td>\n",
       "      <td>44</td>\n",
       "      <td>12</td>\n",
       "      <td>18</td>\n",
       "      <td>58</td>\n",
       "      <td>96</td>\n",
       "      <td>97</td>\n",
       "      <td>3</td>\n",
       "      <td>2</td>\n",
       "      <td>0</td>\n",
       "      <td>0</td>\n",
       "    </tr>\n",
       "  </tbody>\n",
       "</table>\n",
       "<p>5 rows × 59 columns</p>\n",
       "</div>"
      ],
      "text/plain": [
       "   red_fighter_name blue_fighter_name  event_date red_fighter_nickname  \\\n",
       "0      ILIA TOPURIA      MAX HOLLOWAY  26/10/2024           El Matador   \n",
       "1  ROBERT WHITTAKER   KHAMZAT CHIMAEV  26/10/2024           The Reaper   \n",
       "2  MAGOMED ANKALAEV  ALEKSANDAR RAKIC  26/10/2024                    -   \n",
       "3     LERONE MURPHY           DAN IGE  26/10/2024          The Miracle   \n",
       "4   SHARA MAGOMEDOV   ARMEN PETROSYAN  26/10/2024               Bullet   \n",
       "\n",
       "  blue_fighter_nickname red_fighter_result blue_fighter_result  \\\n",
       "0               Blessed                  W                   L   \n",
       "1                  Borz                  L                   W   \n",
       "2                Rocket                  W                   L   \n",
       "3                   50K                  W                   L   \n",
       "4              Superman                  W                   L   \n",
       "\n",
       "                 method  round  time  ... red_fighter_sig_str_body_pct  \\\n",
       "0                KO/TKO      3  1:34  ...                           14   \n",
       "1            Submission      1  3:34  ...                            0   \n",
       "2  Decision - Unanimous      3  5:00  ...                           40   \n",
       "3  Decision - Unanimous      3  5:00  ...                           23   \n",
       "4                KO/TKO      2  4:52  ...                           44   \n",
       "\n",
       "  blue_fighter_sig_str_body_pct red_fighter_sig_str_leg_pct  \\\n",
       "0                            16                          20   \n",
       "1                            33                         100   \n",
       "2                            16                          23   \n",
       "3                            10                           7   \n",
       "4                            12                          18   \n",
       "\n",
       "  blue_fighter_sig_str_leg_pct red_fighter_sig_str_distance_pct  \\\n",
       "0                           24                               94   \n",
       "1                            0                              100   \n",
       "2                           64                               90   \n",
       "3                           13                               71   \n",
       "4                           58                               96   \n",
       "\n",
       "  blue_fighter_sig_str_distance_pct red_fighter_sig_str_clinch_pct  \\\n",
       "0                               100                              0   \n",
       "1                                 0                              0   \n",
       "2                                94                              9   \n",
       "3                                69                             23   \n",
       "4                                97                              3   \n",
       "\n",
       "  blue_fighter_sig_str_clinch_pct red_fighter_sig_str_ground_pct  \\\n",
       "0                               0                              5   \n",
       "1                               0                              0   \n",
       "2                               5                              0   \n",
       "3                              13                              5   \n",
       "4                               2                              0   \n",
       "\n",
       "  blue_fighter_sig_str_ground_pct  \n",
       "0                               0  \n",
       "1                             100  \n",
       "2                               0  \n",
       "3                              17  \n",
       "4                               0  \n",
       "\n",
       "[5 rows x 59 columns]"
      ]
     },
     "execution_count": 69,
     "metadata": {},
     "output_type": "execute_result"
    }
   ],
   "source": [
    "stats = pd.read_csv(\"datasets/stats.csv\", sep=\";\")\n",
    "stats.head()"
   ]
  },
  {
   "cell_type": "code",
   "execution_count": 70,
   "metadata": {},
   "outputs": [
    {
     "data": {
      "text/plain": [
       "0    belt\n",
       "1    perf\n",
       "2       -\n",
       "3       -\n",
       "4    perf\n",
       "Name: bonus, dtype: object"
      ]
     },
     "execution_count": 70,
     "metadata": {},
     "output_type": "execute_result"
    }
   ],
   "source": [
    "# distinct values in stats bonus column\n",
    "stats[\"bonus\"].head()"
   ]
  },
  {
   "cell_type": "code",
   "execution_count": 71,
   "metadata": {},
   "outputs": [
    {
     "data": {
      "text/plain": [
       "Index(['red_fighter_name', 'blue_fighter_name', 'event_date',\n",
       "       'red_fighter_nickname', 'blue_fighter_nickname', 'red_fighter_result',\n",
       "       'blue_fighter_result', 'method', 'round', 'time', 'time_format',\n",
       "       'referee', 'details', 'bout_type', 'bonus', 'event_name',\n",
       "       'event_location', 'red_fighter_KD', 'blue_fighter_KD',\n",
       "       'red_fighter_sig_str', 'blue_fighter_sig_str',\n",
       "       'red_fighter_sig_str_pct', 'blue_fighter_sig_str_pct',\n",
       "       'red_fighter_total_str', 'blue_fighter_total_str', 'red_fighter_TD',\n",
       "       'blue_fighter_TD', 'red_fighter_TD_pct', 'blue_fighter_TD_pct',\n",
       "       'red_fighter_sub_att', 'blue_fighter_sub_att', 'red_fighter_rev',\n",
       "       'blue_fighter_rev', 'red_fighter_ctrl', 'blue_fighter_ctrl',\n",
       "       'red_fighter_sig_str_head', 'blue_fighter_sig_str_head',\n",
       "       'red_fighter_sig_str_body', 'blue_fighter_sig_str_body',\n",
       "       'red_fighter_sig_str_leg', 'blue_fighter_sig_str_leg',\n",
       "       'red_fighter_sig_str_distance', 'blue_fighter_sig_str_distance',\n",
       "       'red_fighter_sig_str_clinch', 'blue_fighter_sig_str_clinch',\n",
       "       'red_fighter_sig_str_ground', 'blue_fighter_sig_str_ground',\n",
       "       'red_fighter_sig_str_head_pct', 'blue_fighter_sig_str_head_pct',\n",
       "       'red_fighter_sig_str_body_pct', 'blue_fighter_sig_str_body_pct',\n",
       "       'red_fighter_sig_str_leg_pct', 'blue_fighter_sig_str_leg_pct',\n",
       "       'red_fighter_sig_str_distance_pct', 'blue_fighter_sig_str_distance_pct',\n",
       "       'red_fighter_sig_str_clinch_pct', 'blue_fighter_sig_str_clinch_pct',\n",
       "       'red_fighter_sig_str_ground_pct', 'blue_fighter_sig_str_ground_pct'],\n",
       "      dtype='object')"
      ]
     },
     "execution_count": 71,
     "metadata": {},
     "output_type": "execute_result"
    }
   ],
   "source": [
    "stats.columns"
   ]
  },
  {
   "cell_type": "markdown",
   "metadata": {},
   "source": [
    "### Fight time and rounds\n",
    "\n",
    "Firstly, we can focus on the fight time and number of rounds. "
   ]
  },
  {
   "cell_type": "code",
   "execution_count": 72,
   "metadata": {},
   "outputs": [
    {
     "name": "stderr",
     "output_type": "stream",
     "text": [
      "/var/folders/8f/r3_wj0mj7j7589tsdf6vxc2w0000gn/T/ipykernel_20125/3764195426.py:2: UserWarning: Parsing dates in %d/%m/%Y format when dayfirst=False (the default) was specified. Pass `dayfirst=True` or specify a format to silence this warning.\n",
      "  stats[\"event_date\"] = pd.to_datetime(stats[\"event_date\"])\n",
      "/var/folders/8f/r3_wj0mj7j7589tsdf6vxc2w0000gn/T/ipykernel_20125/3764195426.py:13: SettingWithCopyWarning: \n",
      "A value is trying to be set on a copy of a slice from a DataFrame.\n",
      "Try using .loc[row_indexer,col_indexer] = value instead\n",
      "\n",
      "See the caveats in the documentation: https://pandas.pydata.org/pandas-docs/stable/user_guide/indexing.html#returning-a-view-versus-a-copy\n",
      "  numbered_event[\"fight_lenght\"] = numbered_event[\"time\"].apply(lambda x: int(x.split(\":\")[0])*60 + int(x.split(\":\")[1]))\n"
     ]
    }
   ],
   "source": [
    "# filter stats to only contain fights after 1999\n",
    "stats[\"event_date\"] = pd.to_datetime(stats[\"event_date\"])\n",
    "stats_after_1999 = stats[stats[\"event_date\"].dt.year > 1999]\n",
    "\n",
    "# create a fight_night dataframe from stats where the 'bout_type' contains \"UFC Fight Night\"\n",
    "fight_night = stats_after_1999[stats_after_1999[\"bout_type\"].str.contains(\"UFC Fight Night\")]\n",
    "# create a column \"fight_lenght\" \n",
    "fight_night[\"fight_lenght\"] = fight_night[\"time\"].apply(lambda x: int(x.split(\":\")[0])*60 + int(x.split(\":\")[1]))\n",
    "\n",
    "\n",
    "# create a numbered event dataframe from stats where the 'bout_type' contains a number\n",
    "numbered_event = stats_after_1999[stats_after_1999[\"bout_type\"].str.contains(\"\\d\")]\n",
    "numbered_event[\"fight_lenght\"] = numbered_event[\"time\"].apply(lambda x: int(x.split(\":\")[0])*60 + int(x.split(\":\")[1]))"
   ]
  },
  {
   "cell_type": "code",
   "execution_count": 73,
   "metadata": {},
   "outputs": [
    {
     "data": {
      "image/png": "[encoded data removed]",
      "text/plain": [
       "<Figure size 640x480 with 1 Axes>"
      ]
     },
     "metadata": {},
     "output_type": "display_data"
    }
   ],
   "source": [
    "# make a histogram of \"round\" column in numbered_event\n",
    "plt.hist(numbered_event[\"round\"], bins=5)\n",
    "plt.xlabel(\"Number of rounds\")\n",
    "plt.xticks(np.arange(1, 3, 1))\n",
    "plt.ylabel(\"Number of fights\")\n",
    "plt.title(\"Number of rounds in numbered UFC events\")\n",
    "plt.show()"
   ]
  },
  {
   "cell_type": "code",
   "execution_count": 74,
   "metadata": {},
   "outputs": [
    {
     "data": {
      "text/plain": [
       "array(['UFC Featherweight Title Bout', 'Middleweight Bout',\n",
       "       'Light Heavyweight Bout', 'Featherweight Bout',\n",
       "       'Welterweight Bout', 'Catch Weight Bout', 'Heavyweight Bout',\n",
       "       'Bantamweight Bout', 'Flyweight Bout', \"Women's Bantamweight Bout\",\n",
       "       \"Women's Strawweight Bout\", 'Lightweight Bout',\n",
       "       'UFC Light Heavyweight Title Bout',\n",
       "       \"UFC Women's Bantamweight Title Bout\",\n",
       "       'UFC Bantamweight Title Bout', \"UFC Women's Flyweight Title Bout\",\n",
       "       \"Women's Flyweight Bout\", 'UFC Middleweight Title Bout',\n",
       "       'UFC Welterweight Title Bout',\n",
       "       'UFC Interim Heavyweight Title Bout', 'UFC Lightweight Title Bout',\n",
       "       'UFC Flyweight Title Bout', \"UFC Women's Strawweight Title Bout\",\n",
       "       \"Women's Featherweight Bout\", 'UFC Heavyweight Title Bout',\n",
       "       'UFC Interim Featherweight Title Bout',\n",
       "       'Road To UFC 1 Lightweight Tournament Title Bout',\n",
       "       'Road To UFC 1 Featherweight Tournament Title Bout',\n",
       "       'Road To UFC 1 Bantamweight Tournament Title Bout',\n",
       "       'Road to UFC 1 Flyweight Tournament Title Bout',\n",
       "       'UFC Interim Flyweight Title Bout',\n",
       "       'UFC Interim Bantamweight Title Bout',\n",
       "       \"UFC Women's Featherweight Title Bout\",\n",
       "       'UFC Interim Lightweight Title Bout',\n",
       "       'UFC Interim Middleweight Title Bout',\n",
       "       'Ultimate Fighter 28 Heavyweight Tournament Title Bout',\n",
       "       \"Ultimate Fighter 28 Women's Featherweight Tournament Title Bout\",\n",
       "       'Ultimate Fighter 27 Lightweight Tournament Title Bout',\n",
       "       'Ultimate Fighter 27 Featherweight Tournament Title Bout',\n",
       "       'UFC Interim Welterweight Title Bout',\n",
       "       'Ultimate Fighter 25 Welterweight Tournament Title Bout',\n",
       "       'Ultimate Fighter Latin America 3 Lightweight Tournament Title Bout',\n",
       "       'Ultimate Fighter 23 Light Heavyweight Tournament Title Bout',\n",
       "       \"Ultimate Fighter 23 Women's Strawweight Tournament Title Bout\",\n",
       "       'UFC Interim Light Heavyweight Title Bout',\n",
       "       'Ultimate Fighter 22 Lightweight Tournament Title Bout',\n",
       "       'Ultimate Fighter Latin America 2 Welterweight Tournament Title Bout',\n",
       "       'Ultimate Fighter Latin America 2 Lightweight Tournament Title Bout',\n",
       "       'Ultimate Fighter Brazil 4 Lightweight Tournament Title Bout',\n",
       "       'Ultimate Fighter Brazil 4 Bantamweight Tournament Title Bout',\n",
       "       'Ultimate Fighter 21 Welterweight Tournament Title Bout',\n",
       "       'Ultimate Fighter Latin America Featherweight Tournament Title Bout',\n",
       "       'Ultimate Fighter Latin America Bantamweight Tournament Title Bout',\n",
       "       'Ultimate Fighter China Featherweight Tournament Title Bout',\n",
       "       'Ultimate Fighter 19 Light Heavyweight Tournament Title Bout',\n",
       "       'Ultimate Fighter 19 Middleweight Tournament Title Bout',\n",
       "       'Ultimate Fighter Brazil 3 Heavyweight Tournament Title Bout',\n",
       "       'Ultimate Fighter Brazil 3 Middleweight Tournament Title Bout',\n",
       "       'TUF Nations Canada vs. Australia Middleweight Tournament Title Bout',\n",
       "       'TUF Nations Canada vs. Australia Welterweight Tournament Title Bout',\n",
       "       'Ultimate Fighter China Welterweight Tournament Title Bout',\n",
       "       \"Ultimate Fighter 18 Women's Bantamweight Tournament Title Bout\",\n",
       "       'Ultimate Fighter 18 Bantamweight Tournament Title Bout',\n",
       "       'Ultimate Fighter Brazil 2 Welterweight Tournament Title Bout',\n",
       "       'Ultimate Fighter 17 Middleweight Tournament Title Bout',\n",
       "       'Ultimate Fighter 16 Welterweight Tournament Title Bout',\n",
       "       'Ultimate Fighter Australia vs. UK Welterweight Tournament Title Bout',\n",
       "       'Ultimate Fighter Australia vs. UK Lightweight Tournament Title Bout',\n",
       "       'Ultimate Fighter Brazil 1 Middleweight Tournament Title Bout',\n",
       "       'Ultimate Fighter Brazil 1 Featherweight Tournament Title Bout',\n",
       "       'Ultimate Fighter 15 Lightweight Tournament Title Bout',\n",
       "       'Ultimate Fighter 14 Featherweight Tournament Title Bout',\n",
       "       'Ultimate Fighter 14 Bantamweight Tournament Title Bout',\n",
       "       'Ultimate Fighter 13 Welterweight Tournament Title Bout',\n",
       "       'Ultimate Fighter 12 Lightweight Tournament Title Bout',\n",
       "       'Ultimate Fighter 11 Middleweight Tournament Title Bout',\n",
       "       'Ultimate Fighter 10 Heavyweight Tournament Title Bout',\n",
       "       'Ultimate Fighter 9 Welterweight Tournament Title Bout',\n",
       "       'Ultimate Fighter 9 Lightweight Tournament Title Bout',\n",
       "       'Ultimate Fighter 8 Lightweight Tournament Title Bout',\n",
       "       'Ultimate Fighter 8 Light Heavyweight Tournament Title Bout',\n",
       "       'Ultimate Fighter 7 Middleweight Tournament Title Bout',\n",
       "       'Ultimate Fighter 6 Welterweight Tournament Title Bout',\n",
       "       'Ultimate Fighter 5 Lightweight Tournament Title Bout',\n",
       "       'Ultimate Fighter 4 Welterweight Tournament Title Bout',\n",
       "       'Ultimate Fighter 4 Middleweight Tournament Title Bout',\n",
       "       'Ultimate Fighter 3 Light Heavyweight Tournament Title Bout',\n",
       "       'Ultimate Fighter 3 Middleweight Tournament Title Bout',\n",
       "       'Ultimate Fighter 2 Heavyweight Tournament Title Bout',\n",
       "       'Ultimate Fighter 2 Welterweight Tournament Title Bout',\n",
       "       'Ultimate Fighter 1 Light Heavyweight Tournament Title Bout',\n",
       "       'Ultimate Fighter 1 Middleweight Tournament Title Bout',\n",
       "       'Super Heavyweight Bout'], dtype=object)"
      ]
     },
     "execution_count": 74,
     "metadata": {},
     "output_type": "execute_result"
    }
   ],
   "source": [
    "stats_after_1999[\"bout_type\"].unique()"
   ]
  },
  {
   "cell_type": "code",
   "execution_count": 75,
   "metadata": {},
   "outputs": [
    {
     "data": {
      "text/plain": [
       "round\n",
       "3    24\n",
       "1    17\n",
       "2    10\n",
       "Name: count, dtype: int64"
      ]
     },
     "execution_count": 75,
     "metadata": {},
     "output_type": "execute_result"
    }
   ],
   "source": [
    "numbered_event[\"round\"].value_counts()"
   ]
  },
  {
   "cell_type": "code",
   "execution_count": 76,
   "metadata": {},
   "outputs": [
    {
     "name": "stderr",
     "output_type": "stream",
     "text": [
      "/Users/lucijaaleksic/anaconda3/envs/torch/lib/python3.10/site-packages/seaborn/categorical.py:632: FutureWarning: SeriesGroupBy.grouper is deprecated and will be removed in a future version of pandas.\n",
      "  positions = grouped.grouper.result_index.to_numpy(dtype=float)\n"
     ]
    },
    {
     "data": {
      "image/png": "[encoded data removed]",
      "text/plain": [
       "<Figure size 640x480 with 1 Axes>"
      ]
     },
     "metadata": {},
     "output_type": "display_data"
    }
   ],
   "source": [
    "# show distribution of fight lenght in numbered_event by three boxplots and color the data points by round\n",
    "sns.boxplot(x=\"round\", y=\"fight_lenght\", data=numbered_event)\n",
    "plt.xlabel(\"Number of rounds\")\n",
    "plt.ylabel(\"Fight lenght in seconds\")\n",
    "plt.title(\"Fight lenght in numbered UFC events\")\n",
    "plt.show()\n"
   ]
  },
  {
   "cell_type": "code",
   "execution_count": 77,
   "metadata": {},
   "outputs": [
    {
     "name": "stderr",
     "output_type": "stream",
     "text": [
      "/Users/lucijaaleksic/anaconda3/envs/torch/lib/python3.10/site-packages/seaborn/categorical.py:632: FutureWarning: SeriesGroupBy.grouper is deprecated and will be removed in a future version of pandas.\n",
      "  positions = grouped.grouper.result_index.to_numpy(dtype=float)\n"
     ]
    },
    {
     "data": {
      "image/png": "[encoded data removed]",
      "text/plain": [
       "<Figure size 1200x600 with 1 Axes>"
      ]
     },
     "metadata": {},
     "output_type": "display_data"
    }
   ],
   "source": [
    "# add columnt time_seconds to stats - from min:sec to seconds\n",
    "stats[\"time_seconds\"] = stats[\"time\"].apply(lambda x: int(x.split(\":\")[0])*60 + int(x.split(\":\")[1]))\n",
    "\n",
    "plt.figure(figsize=(12, 6))\n",
    "sns.boxplot(x=\"time_seconds\", data=stats)\n",
    "plt.title(\"Fight time distribution\")\n",
    "plt.show()"
   ]
  },
  {
   "cell_type": "code",
   "execution_count": 78,
   "metadata": {},
   "outputs": [
    {
     "data": {
      "image/png": "[encoded data removed]",
      "text/plain": [
       "<Figure size 1200x600 with 1 Axes>"
      ]
     },
     "metadata": {},
     "output_type": "display_data"
    },
    {
     "data": {
      "image/png": "[encoded data removed]",
      "text/plain": [
       "<Figure size 1200x600 with 1 Axes>"
      ]
     },
     "metadata": {},
     "output_type": "display_data"
    },
    {
     "data": {
      "image/png": "[encoded data removed]",
      "text/plain": [
       "<Figure size 1200x600 with 1 Axes>"
      ]
     },
     "metadata": {},
     "output_type": "display_data"
    },
    {
     "data": {
      "image/png": "[encoded data removed]",
      "text/plain": [
       "<Figure size 1200x600 with 1 Axes>"
      ]
     },
     "metadata": {},
     "output_type": "display_data"
    },
    {
     "data": {
      "image/png": "[encoded data removed]",
      "text/plain": [
       "<Figure size 1200x600 with 1 Axes>"
      ]
     },
     "metadata": {},
     "output_type": "display_data"
    }
   ],
   "source": [
    "# plot fight time distribution per rounds \n",
    "for i in range(1, 6):\n",
    "    plt.figure(figsize=(12, 6))\n",
    "    sns.histplot(stats[stats[\"round\"] == i][\"time_seconds\"], bins=30)\n",
    "    plt.title(f\"Fight time distribution in round {i}\")\n",
    "    plt.show()"
   ]
  },
  {
   "cell_type": "code",
   "execution_count": 95,
   "metadata": {},
   "outputs": [
    {
     "data": {
      "text/html": [
       "<div>\n",
       "<style scoped>\n",
       "    .dataframe tbody tr th:only-of-type {\n",
       "        vertical-align: middle;\n",
       "    }\n",
       "\n",
       "    .dataframe tbody tr th {\n",
       "        vertical-align: top;\n",
       "    }\n",
       "\n",
       "    .dataframe thead th {\n",
       "        text-align: right;\n",
       "    }\n",
       "</style>\n",
       "<table border=\"1\" class=\"dataframe\">\n",
       "  <thead>\n",
       "    <tr style=\"text-align: right;\">\n",
       "      <th></th>\n",
       "      <th>red_fighter_name</th>\n",
       "      <th>blue_fighter_name</th>\n",
       "      <th>event_date</th>\n",
       "      <th>red_fighter_nickname</th>\n",
       "      <th>blue_fighter_nickname</th>\n",
       "      <th>red_fighter_result</th>\n",
       "      <th>blue_fighter_result</th>\n",
       "      <th>method</th>\n",
       "      <th>round</th>\n",
       "      <th>time</th>\n",
       "      <th>...</th>\n",
       "      <th>blue_fighter_sig_str_leg_pct</th>\n",
       "      <th>red_fighter_sig_str_distance_pct</th>\n",
       "      <th>blue_fighter_sig_str_distance_pct</th>\n",
       "      <th>red_fighter_sig_str_clinch_pct</th>\n",
       "      <th>blue_fighter_sig_str_clinch_pct</th>\n",
       "      <th>red_fighter_sig_str_ground_pct</th>\n",
       "      <th>blue_fighter_sig_str_ground_pct</th>\n",
       "      <th>time_seconds</th>\n",
       "      <th>city</th>\n",
       "      <th>country</th>\n",
       "    </tr>\n",
       "  </thead>\n",
       "  <tbody>\n",
       "    <tr>\n",
       "      <th>7686</th>\n",
       "      <td>OLEG TAKTAROV</td>\n",
       "      <td>MARCO RUAS</td>\n",
       "      <td>1995-12-16</td>\n",
       "      <td>The Russian Bear</td>\n",
       "      <td>King of the Streets</td>\n",
       "      <td>W</td>\n",
       "      <td>L</td>\n",
       "      <td>Decision - Unanimous</td>\n",
       "      <td>1</td>\n",
       "      <td>18:00</td>\n",
       "      <td>...</td>\n",
       "      <td>78</td>\n",
       "      <td>100</td>\n",
       "      <td>100</td>\n",
       "      <td>0</td>\n",
       "      <td>0</td>\n",
       "      <td>0</td>\n",
       "      <td>0</td>\n",
       "      <td>1080</td>\n",
       "      <td>Denver</td>\n",
       "      <td>Colorado</td>\n",
       "    </tr>\n",
       "    <tr>\n",
       "      <th>7687</th>\n",
       "      <td>DAN SEVERN</td>\n",
       "      <td>DAVID ABBOTT</td>\n",
       "      <td>1995-12-16</td>\n",
       "      <td>The Beast</td>\n",
       "      <td>Tank</td>\n",
       "      <td>W</td>\n",
       "      <td>L</td>\n",
       "      <td>Decision - Unanimous</td>\n",
       "      <td>1</td>\n",
       "      <td>18:00</td>\n",
       "      <td>...</td>\n",
       "      <td>0</td>\n",
       "      <td>0</td>\n",
       "      <td>0</td>\n",
       "      <td>8</td>\n",
       "      <td>66</td>\n",
       "      <td>91</td>\n",
       "      <td>33</td>\n",
       "      <td>1080</td>\n",
       "      <td>Denver</td>\n",
       "      <td>Colorado</td>\n",
       "    </tr>\n",
       "  </tbody>\n",
       "</table>\n",
       "<p>2 rows × 62 columns</p>\n",
       "</div>"
      ],
      "text/plain": [
       "     red_fighter_name blue_fighter_name event_date red_fighter_nickname  \\\n",
       "7686    OLEG TAKTAROV        MARCO RUAS 1995-12-16     The Russian Bear   \n",
       "7687       DAN SEVERN      DAVID ABBOTT 1995-12-16            The Beast   \n",
       "\n",
       "     blue_fighter_nickname red_fighter_result blue_fighter_result  \\\n",
       "7686   King of the Streets                  W                   L   \n",
       "7687                  Tank                  W                   L   \n",
       "\n",
       "                    method  round   time  ... blue_fighter_sig_str_leg_pct  \\\n",
       "7686  Decision - Unanimous      1  18:00  ...                           78   \n",
       "7687  Decision - Unanimous      1  18:00  ...                            0   \n",
       "\n",
       "     red_fighter_sig_str_distance_pct blue_fighter_sig_str_distance_pct  \\\n",
       "7686                              100                               100   \n",
       "7687                                0                                 0   \n",
       "\n",
       "     red_fighter_sig_str_clinch_pct blue_fighter_sig_str_clinch_pct  \\\n",
       "7686                              0                               0   \n",
       "7687                              8                              66   \n",
       "\n",
       "     red_fighter_sig_str_ground_pct blue_fighter_sig_str_ground_pct  \\\n",
       "7686                              0                               0   \n",
       "7687                             91                              33   \n",
       "\n",
       "     time_seconds    city    country  \n",
       "7686         1080  Denver   Colorado  \n",
       "7687         1080  Denver   Colorado  \n",
       "\n",
       "[2 rows x 62 columns]"
      ]
     },
     "execution_count": 95,
     "metadata": {},
     "output_type": "execute_result"
    }
   ],
   "source": [
    "# which is the longest fight?\n",
    "stats[stats[\"time_seconds\"] == stats[\"time_seconds\"].max()]"
   ]
  },
  {
   "cell_type": "markdown",
   "metadata": {},
   "source": [
    "The longest fights are two 18 minute fights which are both from 1995 when the UFC was still in its early days and there were no rounds."
   ]
  },
  {
   "cell_type": "markdown",
   "metadata": {},
   "source": [
    "### Fight location\n",
    "\n",
    "Here we can focus on where the fights are taking place. We'll look into cities and countries."
   ]
  },
  {
   "cell_type": "code",
   "execution_count": 81,
   "metadata": {},
   "outputs": [
    {
     "data": {
      "text/plain": [
       "array(['Abu Dhabi, Abu Dhabi, United Arab Emirates',\n",
       "       'Las Vegas, Nevada, USA', 'Salt Lake City, Utah, USA',\n",
       "       'Paris, Ile-de-France, France',\n",
       "       'Perth, Western Australia, Australia',\n",
       "       'Manchester, England, United Kingdom', 'Denver, Colorado, USA',\n",
       "       'Riyadh, Riyadh, Saudi Arabia', 'Louisville, Kentucky, USA',\n",
       "       'Newark, New Jersey, USA', 'St. Louis, Missouri, USA',\n",
       "       'Rio de Janeiro, Rio de Janeiro, Brazil',\n",
       "       'Atlantic City, New Jersey, USA', 'Miami, Florida, USA',\n",
       "       'Mexico City, Distrito Federal, Mexico',\n",
       "       'Anaheim, California, USA', 'Toronto, Ontario, Canada',\n",
       "       'Austin, Texas, USA', 'New York City, New York, USA',\n",
       "       'Sao Paulo, Sao Paulo, Brazil',\n",
       "       'Sydney, New South Wales, Australia', 'Kallang, Singapore',\n",
       "       'Boston, Massachusetts, USA', 'Nashville, Tennessee, USA',\n",
       "       'London, England, United Kingdom', 'Jacksonville, Florida, USA',\n",
       "       'Vancouver, British Columbia, Canada',\n",
       "       'Charlotte, North Carolina, USA', 'Kansas City, Missouri, USA',\n",
       "       'San Antonio, Texas, USA', 'Orlando, Florida, USA',\n",
       "       'San Diego, California, USA', 'Dallas, Texas, USA',\n",
       "       'Elmont, New York, USA', 'Phoenix, Arizona, USA',\n",
       "       'Columbus, Ohio, USA', 'Houston, Texas, USA',\n",
       "       'Glendale, Arizona, USA', 'Brasilia, Distrito Federal, Brazil',\n",
       "       'Norfolk, Virginia, USA', 'Auckland, New Zealand',\n",
       "       'Rio Rancho, New Mexico, USA', 'Raleigh, North Carolina, USA',\n",
       "       'Busan, South Korea', 'Washington, DC, USA',\n",
       "       'Moscow, Moscow, Russia', 'Tampa, Florida, USA',\n",
       "       'Melbourne, Victoria, Australia', 'Copenhagen, Denmark',\n",
       "       'Shenzhen, Guangdong, China', 'Montevideo, Uruguay',\n",
       "       'Edmonton, Alberta, Canada', 'Sacramento, California, USA',\n",
       "       'Minneapolis, Minnesota, USA', 'Greenville, South Carolina, USA',\n",
       "       'Chicago, Illinois, USA', 'Stockholm, Sweden',\n",
       "       'Rochester, New York, USA', 'Ottawa, Ontario, Canada',\n",
       "       'Sunrise, Florida, USA',\n",
       "       'Saint Petersburg, Saint Petersburg, Russia',\n",
       "       'Atlanta, Georgia, USA', 'Philadelphia, Pennsylvania, USA',\n",
       "       'Wichita, Kansas, USA', 'Prague, Czech Republic',\n",
       "       'Fortaleza, Ceara, Brazil', 'Brooklyn, New York, USA',\n",
       "       'Los Angeles, California, USA', 'Milwaukee, Wisconsin, USA',\n",
       "       'Adelaide, South Australia, Australia', 'Beijing, China',\n",
       "       'Buenos Aires, Buenos Aires, Argentina',\n",
       "       'Moncton, New Brunswick, Canada', 'Lincoln, Nebraska, USA',\n",
       "       'Calgary, Alberta, Canada', 'Hamburg, Hamburg, Germany',\n",
       "       'Boise, Idaho, USA', 'Utica, New York, USA',\n",
       "       'Liverpool, England, United Kingdom', 'Santiago, Chile',\n",
       "       'Belem, Para, Brazil', 'Winnipeg, Manitoba, Canada',\n",
       "       'Fresno, California, USA', 'Detroit, Michigan, USA',\n",
       "       'Shanghai, Hebei, China', 'Gdansk, Poland',\n",
       "       'Saitama, Saitama, Japan', 'Pittsburgh, Pennsylvania, USA',\n",
       "       'Rotterdam, Zuid-Holland, Netherlands', 'Uniondale, New York, USA',\n",
       "       'Glasgow, Scotland, United Kingdom',\n",
       "       'Oklahoma City, Oklahoma, USA', 'Buffalo, New York, USA',\n",
       "       'Halifax, Nova Scotia, Canada', 'Albany, New York, USA',\n",
       "       'Belfast, Northern Ireland, United Kingdom',\n",
       "       'Portland, Oregon, USA', 'Hidalgo, Texas, USA',\n",
       "       'Cleveland, Ohio, USA', 'Sioux Falls, South Dakota, USA',\n",
       "       'Curitiba, Parana, Brazil', 'Zagreb, Croatia',\n",
       "       'Brisbane, Queensland, Australia', 'Seoul, South Korea',\n",
       "       'Monterrey, Nuevo Leon, Mexico', 'Dublin, Leinster, Ireland',\n",
       "       'Saitama, Japan', 'Saskatoon, Saskatchewan, Canada',\n",
       "       'Hollywood, Florida, USA', 'Berlin, Berlin, Germany',\n",
       "       'New Orleans, Louisiana, USA', 'Goiania, Goias, Brazil',\n",
       "       'Manila, Philippines', 'Montreal, Quebec, Canada',\n",
       "       'Krakow, Poland', 'Fairfax, Virginia, USA',\n",
       "       'Rio de Janeiro, Brazil',\n",
       "       'Porto Alegre, Rio Grande do Sul, Brazil',\n",
       "       'Broomfield, Colorado, USA', 'Barueri, Sao Paulo, Brazil',\n",
       "       'Uberlandia, Minas Gerais, Brazil', 'Ledyard, Connecticut, USA',\n",
       "       'Tulsa, Oklahoma, USA', 'Macau, China', 'Bangor, Maine, USA',\n",
       "       'San Jose, California, USA', 'Albuquerque, New Mexico, USA',\n",
       "       'Sao Paulo, Brazil', 'Berlin, Germany', 'Cincinnati, Ohio, USA',\n",
       "       'Baltimore, Maryland, USA', 'Quebec City, Quebec, Canada',\n",
       "       'Abu Dhabi, United Arab Emirates',\n",
       "       'Natal, Rio Grande do Norte, Brazil',\n",
       "       'Jaragua do Sul, Santa Catarina, Brazil', 'Duluth, Georgia, USA',\n",
       "       'Singapore, Singapore', 'Fort Campbell, Kentucky, USA',\n",
       "       'Belo Horizonte, Minas Gerais, Brazil',\n",
       "       'Indianapolis, Indiana, USA', 'Seattle, Washington, USA',\n",
       "       'Gold Coast, Queensland, Australia',\n",
       "       'Nottingham, England, United Kingdom',\n",
       "       'East Rutherford, New Jersey, USA', 'Omaha, Nebraska, USA',\n",
       "       'Birmingham, England, United Kingdom', 'Killeen, Texas, USA',\n",
       "       'Auburn Hills, Michigan, USA',\n",
       "       'Oberhausen, North Rhine-Westphalia, Germany',\n",
       "       'Oakland, California, USA', 'Memphis, Tennessee, USA',\n",
       "       'Cologne, North Rhine-Westphalia, Germany',\n",
       "       'Fayetteville, North Carolina, USA', 'Rosemont, Illinois, USA',\n",
       "       'Newcastle, England, United Kingdom',\n",
       "       'Uncasville, Connecticut, USA', 'Bossier City, Louisiana, USA',\n",
       "       'Tokyo, Japan', 'Cedar Rapids, Iowa, USA',\n",
       "       'Lake Charles, Louisiana, USA', 'Chiba, Japan',\n",
       "       'Birmingham, Alabama, USA', 'Bay St. Louis, Mississippi, USA',\n",
       "       'Mobile, Alabama, USA', 'Yokohama, Kanagawa, Japan',\n",
       "       'Augusta, Georgia, USA', 'Dothan, Alabama, USA',\n",
       "       'San Juan, Puerto Rico', 'Casper, Wyoming, USA'], dtype=object)"
      ]
     },
     "execution_count": 81,
     "metadata": {},
     "output_type": "execute_result"
    }
   ],
   "source": [
    "stats[\"event_location\"].unique()"
   ]
  },
  {
   "cell_type": "code",
   "execution_count": 82,
   "metadata": {},
   "outputs": [],
   "source": [
    "# split location to city and country\n",
    "stats[\"city\"] = stats[\"event_location\"].apply(lambda x: x.split(\",\")[0])\n",
    "stats[\"country\"] = stats[\"event_location\"].apply(lambda x: x.split(\",\")[1]) # in usa it's state"
   ]
  },
  {
   "cell_type": "code",
   "execution_count": 83,
   "metadata": {},
   "outputs": [
    {
     "data": {
      "text/plain": [
       "city\n",
       "Las Vegas         2609\n",
       "Abu Dhabi          233\n",
       "London             166\n",
       "Rio de Janeiro     146\n",
       "Newark             112\n",
       "Anaheim            105\n",
       "Houston            103\n",
       "Sao Paulo           99\n",
       "Atlantic City       91\n",
       "Toronto             86\n",
       "Name: count, dtype: int64"
      ]
     },
     "execution_count": 83,
     "metadata": {},
     "output_type": "execute_result"
    }
   ],
   "source": [
    "# most common cities\n",
    "stats[\"city\"].value_counts().head(10)"
   ]
  },
  {
   "cell_type": "code",
   "execution_count": 84,
   "metadata": {},
   "outputs": [
    {
     "data": {
      "text/plain": [
       "country\n",
       "Nevada        2609\n",
       "California     353\n",
       "Texas          292\n",
       "England        275\n",
       "Florida        249\n",
       "New Jersey     223\n",
       "Abu Dhabi      216\n",
       "New York       201\n",
       "Ontario        111\n",
       "Colorado       110\n",
       "Name: count, dtype: int64"
      ]
     },
     "execution_count": 84,
     "metadata": {},
     "output_type": "execute_result"
    }
   ],
   "source": [
    "# most common countries\n",
    "stats[\"country\"].value_counts().head(10)"
   ]
  },
  {
   "cell_type": "markdown",
   "metadata": {},
   "source": [
    "### Fighters\n",
    "\n",
    "Now we can focus on the fighters. We can look at the number of fights they have, their win rate, and other interesting statistics."
   ]
  },
  {
   "cell_type": "code",
   "execution_count": 85,
   "metadata": {},
   "outputs": [
    {
     "data": {
      "text/html": [
       "<div>\n",
       "<style scoped>\n",
       "    .dataframe tbody tr th:only-of-type {\n",
       "        vertical-align: middle;\n",
       "    }\n",
       "\n",
       "    .dataframe tbody tr th {\n",
       "        vertical-align: top;\n",
       "    }\n",
       "\n",
       "    .dataframe thead th {\n",
       "        text-align: right;\n",
       "    }\n",
       "</style>\n",
       "<table border=\"1\" class=\"dataframe\">\n",
       "  <thead>\n",
       "    <tr style=\"text-align: right;\">\n",
       "      <th></th>\n",
       "      <th>fighter</th>\n",
       "      <th>result</th>\n",
       "      <th>nickname</th>\n",
       "      <th>event_date</th>\n",
       "    </tr>\n",
       "  </thead>\n",
       "  <tbody>\n",
       "    <tr>\n",
       "      <th>0</th>\n",
       "      <td>ILIA TOPURIA</td>\n",
       "      <td>W</td>\n",
       "      <td>El Matador</td>\n",
       "      <td>2024-10-26</td>\n",
       "    </tr>\n",
       "    <tr>\n",
       "      <th>1</th>\n",
       "      <td>ROBERT WHITTAKER</td>\n",
       "      <td>L</td>\n",
       "      <td>The Reaper</td>\n",
       "      <td>2024-10-26</td>\n",
       "    </tr>\n",
       "    <tr>\n",
       "      <th>2</th>\n",
       "      <td>MAGOMED ANKALAEV</td>\n",
       "      <td>W</td>\n",
       "      <td>-</td>\n",
       "      <td>2024-10-26</td>\n",
       "    </tr>\n",
       "    <tr>\n",
       "      <th>3</th>\n",
       "      <td>LERONE MURPHY</td>\n",
       "      <td>W</td>\n",
       "      <td>The Miracle</td>\n",
       "      <td>2024-10-26</td>\n",
       "    </tr>\n",
       "    <tr>\n",
       "      <th>4</th>\n",
       "      <td>SHARA MAGOMEDOV</td>\n",
       "      <td>W</td>\n",
       "      <td>Bullet</td>\n",
       "      <td>2024-10-26</td>\n",
       "    </tr>\n",
       "  </tbody>\n",
       "</table>\n",
       "</div>"
      ],
      "text/plain": [
       "            fighter result     nickname event_date\n",
       "0      ILIA TOPURIA      W   El Matador 2024-10-26\n",
       "1  ROBERT WHITTAKER      L   The Reaper 2024-10-26\n",
       "2  MAGOMED ANKALAEV      W            - 2024-10-26\n",
       "3     LERONE MURPHY      W  The Miracle 2024-10-26\n",
       "4   SHARA MAGOMEDOV      W       Bullet 2024-10-26"
      ]
     },
     "execution_count": 85,
     "metadata": {},
     "output_type": "execute_result"
    }
   ],
   "source": [
    "# transform the stats dataset to have one row per figher \n",
    "# - red_fighter_name and blue_fighter_name = fighter\n",
    "# - red_fighter_result and blue_fighter_result = result\n",
    "# - red_fighter_nickname and blue_fighter_nickname = nickname\n",
    "# - keep event_date\n",
    "\n",
    "fighters = pd.DataFrame()\n",
    "fighters[\"fighter\"] = pd.concat([stats[\"red_fighter_name\"], stats[\"blue_fighter_name\"]])\n",
    "fighters[\"result\"] = pd.concat([stats[\"red_fighter_result\"], stats[\"blue_fighter_result\"]])\n",
    "fighters[\"nickname\"] = pd.concat([stats[\"red_fighter_nickname\"], stats[\"blue_fighter_nickname\"]])\n",
    "fighters[\"event_date\"] = stats[\"event_date\"].reset_index(drop=True)\n",
    "\n",
    "fighters.head()"
   ]
  },
  {
   "cell_type": "code",
   "execution_count": 86,
   "metadata": {},
   "outputs": [
    {
     "data": {
      "text/plain": [
       "fighter\n",
       "JIM MILLER          43\n",
       "ANDREI ARLOVSKI     41\n",
       "DONALD CERRONE      37\n",
       "CLAY GUIDA          36\n",
       "RAFAEL DOS ANJOS    36\n",
       "JEREMY STEPHENS     33\n",
       "DEMIAN MAIA         33\n",
       "NEIL MAGNY          33\n",
       "CHARLES OLIVEIRA    32\n",
       "DIEGO SANCHEZ       32\n",
       "Name: count, dtype: int64"
      ]
     },
     "execution_count": 86,
     "metadata": {},
     "output_type": "execute_result"
    }
   ],
   "source": [
    "# fighter with the most fights\n",
    "fighters[\"fighter\"].value_counts().head(10)"
   ]
  },
  {
   "cell_type": "code",
   "execution_count": 87,
   "metadata": {},
   "outputs": [
    {
     "data": {
      "text/plain": [
       "fighter\n",
       "JIM MILLER          26\n",
       "DONALD CERRONE      23\n",
       "ANDREI ARLOVSKI     23\n",
       "NEIL MAGNY          22\n",
       "DUSTIN POIRIER      22\n",
       "CHARLES OLIVEIRA    22\n",
       "MAX HOLLOWAY        22\n",
       "DEMIAN MAIA         22\n",
       "JON JONES           21\n",
       "RAFAEL DOS ANJOS    21\n",
       "Name: count, dtype: int64"
      ]
     },
     "execution_count": 87,
     "metadata": {},
     "output_type": "execute_result"
    }
   ],
   "source": [
    "# fighter with the most wins (result == \"W\")\n",
    "fighters[fighters[\"result\"] == \"W\"][\"fighter\"].value_counts().head(10)"
   ]
  },
  {
   "cell_type": "code",
   "execution_count": 88,
   "metadata": {},
   "outputs": [
    {
     "data": {
      "text/plain": [
       "fighter\n",
       "JEREMY STEPHENS       18\n",
       "ANDREI ARLOVSKI       18\n",
       "CLAY GUIDA            18\n",
       "JIM MILLER            17\n",
       "RAFAEL DOS ANJOS      15\n",
       "MICHAEL JOHNSON       15\n",
       "DONALD CERRONE        14\n",
       "ANGELA HILL           14\n",
       "TIM MEANS             14\n",
       "OVINCE SAINT PREUX    13\n",
       "Name: count, dtype: int64"
      ]
     },
     "execution_count": 88,
     "metadata": {},
     "output_type": "execute_result"
    }
   ],
   "source": [
    "# fighter with the most losses (result == \"L\")\n",
    "fighters[fighters[\"result\"] == \"L\"][\"fighter\"].value_counts().head(10)"
   ]
  },
  {
   "cell_type": "code",
   "execution_count": 90,
   "metadata": {},
   "outputs": [
    {
     "name": "stdout",
     "output_type": "stream",
     "text": [
      "UMAR NURMAGOMEDOV 100.00% 6 fights, last fight: 2024-08-03 00:00:00\n",
      "JACK DELLA MADDALENA 100.00% 7 fights, last fight: 2024-03-09 00:00:00\n",
      "NATALIA SILVA 100.00% 6 fights, last fight: 2024-09-07 00:00:00\n",
      "CAIO BORRALHO 100.00% 7 fights, last fight: 2024-08-24 00:00:00\n",
      "TATIANA SUAREZ 100.00% 7 fights, last fight: 2023-08-05 00:00:00\n",
      "PADDY PIMBLETT 100.00% 6 fights, last fight: 2024-07-27 00:00:00\n",
      "MANON FIOROT 100.00% 7 fights, last fight: 2024-03-30 00:00:00\n",
      "LERONE MURPHY 100.00% 7 fights, last fight: 2024-10-26 00:00:00\n",
      "KHAMZAT CHIMAEV 100.00% 8 fights, last fight: 2024-10-26 00:00:00\n",
      "KHABIB NURMAGOMEDOV 100.00% 13 fights, last fight: 2020-10-24 00:00:00\n",
      "MUHAMMAD MOKAEV 100.00% 7 fights, last fight: 2024-07-27 00:00:00\n",
      "DRICUS DU PLESSIS 100.00% 8 fights, last fight: 2024-08-17 00:00:00\n",
      "ZABIT MAGOMEDSHARIPOV 100.00% 6 fights, last fight: 2019-11-09 00:00:00\n",
      "SHAVKAT RAKHMONOV 100.00% 6 fights, last fight: 2023-12-16 00:00:00\n",
      "MOVSAR EVLOEV 100.00% 8 fights, last fight: 2024-01-20 00:00:00\n",
      "IAN MACHADO GARRY 100.00% 8 fights, last fight: 2024-06-29 00:00:00\n",
      "ILIA TOPURIA 100.00% 8 fights, last fight: 2024-10-26 00:00:00\n",
      "JON JONES 95.45% 22 fights, last fight: 2023-03-04 00:00:00\n",
      "ISLAM MAKHACHEV 93.75% 16 fights, last fight: 2024-06-01 00:00:00\n",
      "MAGOMED ANKALAEV 91.67% 12 fights, last fight: 2024-10-26 00:00:00\n"
     ]
    }
   ],
   "source": [
    "# fighter with the best win ratio\n",
    "# fighters with more than 4 fights\n",
    "fighters_5 = fighters[\"fighter\"].value_counts()[fighters[\"fighter\"].value_counts() > 5].index\n",
    "fighters_5 = fighters[fighters[\"fighter\"].isin(fighters_5)]\n",
    "\n",
    "win_ratio = fighters_5.groupby(\"fighter\")[\"result\"].apply(lambda x: x[x == \"W\"].count() / x.count()).sort_values(ascending=False)\n",
    "\n",
    "top_20_win_ratio = win_ratio.head(20)\n",
    "\n",
    "for fighter, ratio in top_20_win_ratio.items():\n",
    "    # count how many fights the fighter had\n",
    "    fights = fighters[fighters[\"fighter\"] == fighter][\"result\"].count()\n",
    "    last_figth = fighters[fighters[\"fighter\"] == fighter][\"event_date\"].max()\n",
    "    print(f\"{fighter} {ratio*100:.2f}% {fights} fights, last fight: {last_figth}\")"
   ]
  }
 ],
 "metadata": {
  "kernelspec": {
   "display_name": "torch",
   "language": "python",
   "name": "python3"
  },
  "language_info": {
   "codemirror_mode": {
    "name": "ipython",
    "version": 3
   },
   "file_extension": ".py",
   "mimetype": "text/x-python",
   "name": "python",
   "nbconvert_exporter": "python",
   "pygments_lexer": "ipython3",
   "version": "3.10.13"
  }
 },
 "nbformat": 4,
 "nbformat_minor": 2
}
