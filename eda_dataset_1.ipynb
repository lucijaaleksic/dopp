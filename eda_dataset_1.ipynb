{
 "cells": [
  {
   "cell_type": "code",
   "execution_count": 1,
   "metadata": {},
   "outputs": [
    {
     "name": "stdout",
     "output_type": "stream",
     "text": [
      "Downloading from https://www.kaggle.com/api/v1/datasets/download/komahere/ufc-fights-dataset?dataset_version_number=1...\n"
     ]
    },
    {
     "name": "stderr",
     "output_type": "stream",
     "text": [
      "100%|██████████| 1.22M/1.22M [00:00<00:00, 2.78MB/s]"
     ]
    },
    {
     "name": "stdout",
     "output_type": "stream",
     "text": [
      "Extracting files...\n",
      "Path to dataset files: /Users/lucijaaleksic/.cache/kagglehub/datasets/komahere/ufc-fights-dataset/versions/1\n"
     ]
    },
    {
     "name": "stderr",
     "output_type": "stream",
     "text": [
      "\n"
     ]
    }
   ],
   "source": [
    "import kagglehub\n",
    "\n",
    "# Download latest version\n",
    "path = kagglehub.dataset_download(\"komahere/ufc-fights-dataset\")\n",
    "\n",
    "print(\"Path to dataset files:\", path)"
   ]
  },
  {
   "cell_type": "code",
   "execution_count": 9,
   "metadata": {},
   "outputs": [],
   "source": [
    "import numpy as np # linear algebra\n",
    "import pandas as pd # data processing, CSV file I/O (e.g. pd.read_csv)\n",
    "import os\n",
    "import matplotlib.pyplot as plt\n",
    "import seaborn as sns"
   ]
  },
  {
   "cell_type": "markdown",
   "metadata": {},
   "source": [
    "## Stats"
   ]
  },
  {
   "cell_type": "code",
   "execution_count": 36,
   "metadata": {},
   "outputs": [
    {
     "data": {
      "text/html": [
       "<div>\n",
       "<style scoped>\n",
       "    .dataframe tbody tr th:only-of-type {\n",
       "        vertical-align: middle;\n",
       "    }\n",
       "\n",
       "    .dataframe tbody tr th {\n",
       "        vertical-align: top;\n",
       "    }\n",
       "\n",
       "    .dataframe thead th {\n",
       "        text-align: right;\n",
       "    }\n",
       "</style>\n",
       "<table border=\"1\" class=\"dataframe\">\n",
       "  <thead>\n",
       "    <tr style=\"text-align: right;\">\n",
       "      <th></th>\n",
       "      <th>red_fighter_name</th>\n",
       "      <th>blue_fighter_name</th>\n",
       "      <th>event_date</th>\n",
       "      <th>red_fighter_nickname</th>\n",
       "      <th>blue_fighter_nickname</th>\n",
       "      <th>red_fighter_result</th>\n",
       "      <th>blue_fighter_result</th>\n",
       "      <th>method</th>\n",
       "      <th>round</th>\n",
       "      <th>time</th>\n",
       "      <th>...</th>\n",
       "      <th>red_fighter_sig_str_body_pct</th>\n",
       "      <th>blue_fighter_sig_str_body_pct</th>\n",
       "      <th>red_fighter_sig_str_leg_pct</th>\n",
       "      <th>blue_fighter_sig_str_leg_pct</th>\n",
       "      <th>red_fighter_sig_str_distance_pct</th>\n",
       "      <th>blue_fighter_sig_str_distance_pct</th>\n",
       "      <th>red_fighter_sig_str_clinch_pct</th>\n",
       "      <th>blue_fighter_sig_str_clinch_pct</th>\n",
       "      <th>red_fighter_sig_str_ground_pct</th>\n",
       "      <th>blue_fighter_sig_str_ground_pct</th>\n",
       "    </tr>\n",
       "  </thead>\n",
       "  <tbody>\n",
       "    <tr>\n",
       "      <th>0</th>\n",
       "      <td>ILIA TOPURIA</td>\n",
       "      <td>MAX HOLLOWAY</td>\n",
       "      <td>26/10/2024</td>\n",
       "      <td>El Matador</td>\n",
       "      <td>Blessed</td>\n",
       "      <td>W</td>\n",
       "      <td>L</td>\n",
       "      <td>KO/TKO</td>\n",
       "      <td>3</td>\n",
       "      <td>1:34</td>\n",
       "      <td>...</td>\n",
       "      <td>14</td>\n",
       "      <td>16</td>\n",
       "      <td>20</td>\n",
       "      <td>24</td>\n",
       "      <td>94</td>\n",
       "      <td>100</td>\n",
       "      <td>0</td>\n",
       "      <td>0</td>\n",
       "      <td>5</td>\n",
       "      <td>0</td>\n",
       "    </tr>\n",
       "    <tr>\n",
       "      <th>1</th>\n",
       "      <td>ROBERT WHITTAKER</td>\n",
       "      <td>KHAMZAT CHIMAEV</td>\n",
       "      <td>26/10/2024</td>\n",
       "      <td>The Reaper</td>\n",
       "      <td>Borz</td>\n",
       "      <td>L</td>\n",
       "      <td>W</td>\n",
       "      <td>Submission</td>\n",
       "      <td>1</td>\n",
       "      <td>3:34</td>\n",
       "      <td>...</td>\n",
       "      <td>0</td>\n",
       "      <td>33</td>\n",
       "      <td>100</td>\n",
       "      <td>0</td>\n",
       "      <td>100</td>\n",
       "      <td>0</td>\n",
       "      <td>0</td>\n",
       "      <td>0</td>\n",
       "      <td>0</td>\n",
       "      <td>100</td>\n",
       "    </tr>\n",
       "    <tr>\n",
       "      <th>2</th>\n",
       "      <td>MAGOMED ANKALAEV</td>\n",
       "      <td>ALEKSANDAR RAKIC</td>\n",
       "      <td>26/10/2024</td>\n",
       "      <td>-</td>\n",
       "      <td>Rocket</td>\n",
       "      <td>W</td>\n",
       "      <td>L</td>\n",
       "      <td>Decision - Unanimous</td>\n",
       "      <td>3</td>\n",
       "      <td>5:00</td>\n",
       "      <td>...</td>\n",
       "      <td>40</td>\n",
       "      <td>16</td>\n",
       "      <td>23</td>\n",
       "      <td>64</td>\n",
       "      <td>90</td>\n",
       "      <td>94</td>\n",
       "      <td>9</td>\n",
       "      <td>5</td>\n",
       "      <td>0</td>\n",
       "      <td>0</td>\n",
       "    </tr>\n",
       "    <tr>\n",
       "      <th>3</th>\n",
       "      <td>LERONE MURPHY</td>\n",
       "      <td>DAN IGE</td>\n",
       "      <td>26/10/2024</td>\n",
       "      <td>The Miracle</td>\n",
       "      <td>50K</td>\n",
       "      <td>W</td>\n",
       "      <td>L</td>\n",
       "      <td>Decision - Unanimous</td>\n",
       "      <td>3</td>\n",
       "      <td>5:00</td>\n",
       "      <td>...</td>\n",
       "      <td>23</td>\n",
       "      <td>10</td>\n",
       "      <td>7</td>\n",
       "      <td>13</td>\n",
       "      <td>71</td>\n",
       "      <td>69</td>\n",
       "      <td>23</td>\n",
       "      <td>13</td>\n",
       "      <td>5</td>\n",
       "      <td>17</td>\n",
       "    </tr>\n",
       "    <tr>\n",
       "      <th>4</th>\n",
       "      <td>SHARA MAGOMEDOV</td>\n",
       "      <td>ARMEN PETROSYAN</td>\n",
       "      <td>26/10/2024</td>\n",
       "      <td>Bullet</td>\n",
       "      <td>Superman</td>\n",
       "      <td>W</td>\n",
       "      <td>L</td>\n",
       "      <td>KO/TKO</td>\n",
       "      <td>2</td>\n",
       "      <td>4:52</td>\n",
       "      <td>...</td>\n",
       "      <td>44</td>\n",
       "      <td>12</td>\n",
       "      <td>18</td>\n",
       "      <td>58</td>\n",
       "      <td>96</td>\n",
       "      <td>97</td>\n",
       "      <td>3</td>\n",
       "      <td>2</td>\n",
       "      <td>0</td>\n",
       "      <td>0</td>\n",
       "    </tr>\n",
       "  </tbody>\n",
       "</table>\n",
       "<p>5 rows × 59 columns</p>\n",
       "</div>"
      ],
      "text/plain": [
       "   red_fighter_name blue_fighter_name  event_date red_fighter_nickname  \\\n",
       "0      ILIA TOPURIA      MAX HOLLOWAY  26/10/2024           El Matador   \n",
       "1  ROBERT WHITTAKER   KHAMZAT CHIMAEV  26/10/2024           The Reaper   \n",
       "2  MAGOMED ANKALAEV  ALEKSANDAR RAKIC  26/10/2024                    -   \n",
       "3     LERONE MURPHY           DAN IGE  26/10/2024          The Miracle   \n",
       "4   SHARA MAGOMEDOV   ARMEN PETROSYAN  26/10/2024               Bullet   \n",
       "\n",
       "  blue_fighter_nickname red_fighter_result blue_fighter_result  \\\n",
       "0               Blessed                  W                   L   \n",
       "1                  Borz                  L                   W   \n",
       "2                Rocket                  W                   L   \n",
       "3                   50K                  W                   L   \n",
       "4              Superman                  W                   L   \n",
       "\n",
       "                 method  round  time  ... red_fighter_sig_str_body_pct  \\\n",
       "0                KO/TKO      3  1:34  ...                           14   \n",
       "1            Submission      1  3:34  ...                            0   \n",
       "2  Decision - Unanimous      3  5:00  ...                           40   \n",
       "3  Decision - Unanimous      3  5:00  ...                           23   \n",
       "4                KO/TKO      2  4:52  ...                           44   \n",
       "\n",
       "  blue_fighter_sig_str_body_pct red_fighter_sig_str_leg_pct  \\\n",
       "0                            16                          20   \n",
       "1                            33                         100   \n",
       "2                            16                          23   \n",
       "3                            10                           7   \n",
       "4                            12                          18   \n",
       "\n",
       "  blue_fighter_sig_str_leg_pct red_fighter_sig_str_distance_pct  \\\n",
       "0                           24                               94   \n",
       "1                            0                              100   \n",
       "2                           64                               90   \n",
       "3                           13                               71   \n",
       "4                           58                               96   \n",
       "\n",
       "  blue_fighter_sig_str_distance_pct red_fighter_sig_str_clinch_pct  \\\n",
       "0                               100                              0   \n",
       "1                                 0                              0   \n",
       "2                                94                              9   \n",
       "3                                69                             23   \n",
       "4                                97                              3   \n",
       "\n",
       "  blue_fighter_sig_str_clinch_pct red_fighter_sig_str_ground_pct  \\\n",
       "0                               0                              5   \n",
       "1                               0                              0   \n",
       "2                               5                              0   \n",
       "3                              13                              5   \n",
       "4                               2                              0   \n",
       "\n",
       "  blue_fighter_sig_str_ground_pct  \n",
       "0                               0  \n",
       "1                             100  \n",
       "2                               0  \n",
       "3                              17  \n",
       "4                               0  \n",
       "\n",
       "[5 rows x 59 columns]"
      ]
     },
     "execution_count": 36,
     "metadata": {},
     "output_type": "execute_result"
    }
   ],
   "source": [
    "stats = pd.read_csv(\"stats/stats.csv\", sep=\";\")\n",
    "stats.head()"
   ]
  },
  {
   "cell_type": "code",
   "execution_count": 37,
   "metadata": {},
   "outputs": [
    {
     "data": {
      "text/plain": [
       "0    belt\n",
       "1    perf\n",
       "2       -\n",
       "3       -\n",
       "4    perf\n",
       "Name: bonus, dtype: object"
      ]
     },
     "execution_count": 37,
     "metadata": {},
     "output_type": "execute_result"
    }
   ],
   "source": [
    "# distinct values in stats bonus column\n",
    "stats[\"bonus\"].head()"
   ]
  },
  {
   "cell_type": "code",
   "execution_count": 8,
   "metadata": {},
   "outputs": [
    {
     "data": {
      "text/plain": [
       "Index(['red_fighter_name', 'blue_fighter_name', 'event_date',\n",
       "       'red_fighter_nickname', 'blue_fighter_nickname', 'red_fighter_result',\n",
       "       'blue_fighter_result', 'method', 'round', 'time', 'time_format',\n",
       "       'referee', 'details', 'bout_type', 'bonus', 'event_name',\n",
       "       'event_location', 'red_fighter_KD', 'blue_fighter_KD',\n",
       "       'red_fighter_sig_str', 'blue_fighter_sig_str',\n",
       "       'red_fighter_sig_str_pct', 'blue_fighter_sig_str_pct',\n",
       "       'red_fighter_total_str', 'blue_fighter_total_str', 'red_fighter_TD',\n",
       "       'blue_fighter_TD', 'red_fighter_TD_pct', 'blue_fighter_TD_pct',\n",
       "       'red_fighter_sub_att', 'blue_fighter_sub_att', 'red_fighter_rev',\n",
       "       'blue_fighter_rev', 'red_fighter_ctrl', 'blue_fighter_ctrl',\n",
       "       'red_fighter_sig_str_head', 'blue_fighter_sig_str_head',\n",
       "       'red_fighter_sig_str_body', 'blue_fighter_sig_str_body',\n",
       "       'red_fighter_sig_str_leg', 'blue_fighter_sig_str_leg',\n",
       "       'red_fighter_sig_str_distance', 'blue_fighter_sig_str_distance',\n",
       "       'red_fighter_sig_str_clinch', 'blue_fighter_sig_str_clinch',\n",
       "       'red_fighter_sig_str_ground', 'blue_fighter_sig_str_ground',\n",
       "       'red_fighter_sig_str_head_pct', 'blue_fighter_sig_str_head_pct',\n",
       "       'red_fighter_sig_str_body_pct', 'blue_fighter_sig_str_body_pct',\n",
       "       'red_fighter_sig_str_leg_pct', 'blue_fighter_sig_str_leg_pct',\n",
       "       'red_fighter_sig_str_distance_pct', 'blue_fighter_sig_str_distance_pct',\n",
       "       'red_fighter_sig_str_clinch_pct', 'blue_fighter_sig_str_clinch_pct',\n",
       "       'red_fighter_sig_str_ground_pct', 'blue_fighter_sig_str_ground_pct'],\n",
       "      dtype='object')"
      ]
     },
     "execution_count": 8,
     "metadata": {},
     "output_type": "execute_result"
    }
   ],
   "source": [
    "stats.columns"
   ]
  },
  {
   "cell_type": "code",
   "execution_count": 76,
   "metadata": {},
   "outputs": [
    {
     "data": {
      "text/plain": [
       "array(['KO/TKO', 'Submission', 'Decision - Unanimous', 'Decision - Split',\n",
       "       \"TKO - Doctor's Stoppage\", 'Decision - Majority', 'DQ'],\n",
       "      dtype=object)"
      ]
     },
     "execution_count": 76,
     "metadata": {},
     "output_type": "execute_result"
    }
   ],
   "source": [
    "stats[\"method\"].unique()"
   ]
  },
  {
   "cell_type": "markdown",
   "metadata": {},
   "source": [
    "### Fight time and rounds"
   ]
  },
  {
   "cell_type": "code",
   "execution_count": 15,
   "metadata": {},
   "outputs": [
    {
     "name": "stderr",
     "output_type": "stream",
     "text": [
      "/Users/lucijaaleksic/anaconda3/envs/torch/lib/python3.10/site-packages/seaborn/categorical.py:632: FutureWarning: SeriesGroupBy.grouper is deprecated and will be removed in a future version of pandas.\n",
      "  positions = grouped.grouper.result_index.to_numpy(dtype=float)\n"
     ]
    },
    {
     "data": {
      "image/png": "[encoded data removed]",
      "text/plain": [
       "<Figure size 1200x600 with 1 Axes>"
      ]
     },
     "metadata": {},
     "output_type": "display_data"
    }
   ],
   "source": [
    "# fight time boxplot\n",
    "\n",
    "# add columnt time_seconds to stats - from min:sec to seconds\n",
    "stats[\"time_seconds\"] = stats[\"time\"].apply(lambda x: int(x.split(\":\")[0])*60 + int(x.split(\":\")[1]))\n",
    "\n",
    "plt.figure(figsize=(12, 6))\n",
    "sns.boxplot(x=\"time_seconds\", data=stats)\n",
    "plt.title(\"Fight time distribution\")\n",
    "plt.show()"
   ]
  },
  {
   "cell_type": "code",
   "execution_count": 25,
   "metadata": {},
   "outputs": [
    {
     "data": {
      "image/png": "[encoded data removed]",
      "text/plain": [
       "<Figure size 1200x600 with 1 Axes>"
      ]
     },
     "metadata": {},
     "output_type": "display_data"
    },
    {
     "data": {
      "image/png": "[encoded data removed]",
      "text/plain": [
       "<Figure size 1200x600 with 1 Axes>"
      ]
     },
     "metadata": {},
     "output_type": "display_data"
    },
    {
     "data": {
      "image/png": "[encoded data removed]",
      "text/plain": [
       "<Figure size 1200x600 with 1 Axes>"
      ]
     },
     "metadata": {},
     "output_type": "display_data"
    },
    {
     "data": {
      "image/png": "[encoded data removed]",
      "text/plain": [
       "<Figure size 1200x600 with 1 Axes>"
      ]
     },
     "metadata": {},
     "output_type": "display_data"
    },
    {
     "data": {
      "image/png": "[encoded data removed]",
      "text/plain": [
       "<Figure size 1200x600 with 1 Axes>"
      ]
     },
     "metadata": {},
     "output_type": "display_data"
    }
   ],
   "source": [
    "# plot fight time distribution per rounds \n",
    "for i in range(1, 6):\n",
    "    plt.figure(figsize=(12, 6))\n",
    "    sns.histplot(stats[stats[\"round\"] == i][\"time_seconds\"], bins=30)\n",
    "    plt.title(f\"Fight time distribution in round {i}\")\n",
    "    plt.show()"
   ]
  },
  {
   "cell_type": "code",
   "execution_count": 21,
   "metadata": {},
   "outputs": [
    {
     "data": {
      "text/html": [
       "<div>\n",
       "<style scoped>\n",
       "    .dataframe tbody tr th:only-of-type {\n",
       "        vertical-align: middle;\n",
       "    }\n",
       "\n",
       "    .dataframe tbody tr th {\n",
       "        vertical-align: top;\n",
       "    }\n",
       "\n",
       "    .dataframe thead th {\n",
       "        text-align: right;\n",
       "    }\n",
       "</style>\n",
       "<table border=\"1\" class=\"dataframe\">\n",
       "  <thead>\n",
       "    <tr style=\"text-align: right;\">\n",
       "      <th></th>\n",
       "      <th>red_fighter_name</th>\n",
       "      <th>blue_fighter_name</th>\n",
       "      <th>event_date</th>\n",
       "      <th>red_fighter_nickname</th>\n",
       "      <th>blue_fighter_nickname</th>\n",
       "      <th>red_fighter_result</th>\n",
       "      <th>blue_fighter_result</th>\n",
       "      <th>method</th>\n",
       "      <th>round</th>\n",
       "      <th>time</th>\n",
       "      <th>...</th>\n",
       "      <th>blue_fighter_sig_str_body_pct</th>\n",
       "      <th>red_fighter_sig_str_leg_pct</th>\n",
       "      <th>blue_fighter_sig_str_leg_pct</th>\n",
       "      <th>red_fighter_sig_str_distance_pct</th>\n",
       "      <th>blue_fighter_sig_str_distance_pct</th>\n",
       "      <th>red_fighter_sig_str_clinch_pct</th>\n",
       "      <th>blue_fighter_sig_str_clinch_pct</th>\n",
       "      <th>red_fighter_sig_str_ground_pct</th>\n",
       "      <th>blue_fighter_sig_str_ground_pct</th>\n",
       "      <th>time_seconds</th>\n",
       "    </tr>\n",
       "  </thead>\n",
       "  <tbody>\n",
       "    <tr>\n",
       "      <th>7686</th>\n",
       "      <td>OLEG TAKTAROV</td>\n",
       "      <td>MARCO RUAS</td>\n",
       "      <td>16/12/1995</td>\n",
       "      <td>The Russian Bear</td>\n",
       "      <td>King of the Streets</td>\n",
       "      <td>W</td>\n",
       "      <td>L</td>\n",
       "      <td>Decision - Unanimous</td>\n",
       "      <td>1</td>\n",
       "      <td>18:00</td>\n",
       "      <td>...</td>\n",
       "      <td>0</td>\n",
       "      <td>66</td>\n",
       "      <td>78</td>\n",
       "      <td>100</td>\n",
       "      <td>100</td>\n",
       "      <td>0</td>\n",
       "      <td>0</td>\n",
       "      <td>0</td>\n",
       "      <td>0</td>\n",
       "      <td>1080</td>\n",
       "    </tr>\n",
       "    <tr>\n",
       "      <th>7687</th>\n",
       "      <td>DAN SEVERN</td>\n",
       "      <td>DAVID ABBOTT</td>\n",
       "      <td>16/12/1995</td>\n",
       "      <td>The Beast</td>\n",
       "      <td>Tank</td>\n",
       "      <td>W</td>\n",
       "      <td>L</td>\n",
       "      <td>Decision - Unanimous</td>\n",
       "      <td>1</td>\n",
       "      <td>18:00</td>\n",
       "      <td>...</td>\n",
       "      <td>0</td>\n",
       "      <td>8</td>\n",
       "      <td>0</td>\n",
       "      <td>0</td>\n",
       "      <td>0</td>\n",
       "      <td>8</td>\n",
       "      <td>66</td>\n",
       "      <td>91</td>\n",
       "      <td>33</td>\n",
       "      <td>1080</td>\n",
       "    </tr>\n",
       "  </tbody>\n",
       "</table>\n",
       "<p>2 rows × 60 columns</p>\n",
       "</div>"
      ],
      "text/plain": [
       "     red_fighter_name blue_fighter_name  event_date red_fighter_nickname  \\\n",
       "7686    OLEG TAKTAROV        MARCO RUAS  16/12/1995     The Russian Bear   \n",
       "7687       DAN SEVERN      DAVID ABBOTT  16/12/1995            The Beast   \n",
       "\n",
       "     blue_fighter_nickname red_fighter_result blue_fighter_result  \\\n",
       "7686   King of the Streets                  W                   L   \n",
       "7687                  Tank                  W                   L   \n",
       "\n",
       "                    method  round   time  ... blue_fighter_sig_str_body_pct  \\\n",
       "7686  Decision - Unanimous      1  18:00  ...                             0   \n",
       "7687  Decision - Unanimous      1  18:00  ...                             0   \n",
       "\n",
       "     red_fighter_sig_str_leg_pct blue_fighter_sig_str_leg_pct  \\\n",
       "7686                          66                           78   \n",
       "7687                           8                            0   \n",
       "\n",
       "     red_fighter_sig_str_distance_pct blue_fighter_sig_str_distance_pct  \\\n",
       "7686                              100                               100   \n",
       "7687                                0                                 0   \n",
       "\n",
       "     red_fighter_sig_str_clinch_pct blue_fighter_sig_str_clinch_pct  \\\n",
       "7686                              0                               0   \n",
       "7687                              8                              66   \n",
       "\n",
       "     red_fighter_sig_str_ground_pct blue_fighter_sig_str_ground_pct  \\\n",
       "7686                              0                               0   \n",
       "7687                             91                              33   \n",
       "\n",
       "     time_seconds  \n",
       "7686         1080  \n",
       "7687         1080  \n",
       "\n",
       "[2 rows x 60 columns]"
      ]
     },
     "execution_count": 21,
     "metadata": {},
     "output_type": "execute_result"
    }
   ],
   "source": [
    "# which is the longest fight?\n",
    "stats[stats[\"time_seconds\"] == stats[\"time_seconds\"].max()]"
   ]
  },
  {
   "cell_type": "code",
   "execution_count": 26,
   "metadata": {},
   "outputs": [
    {
     "data": {
      "text/plain": [
       "round\n",
       "3    3924\n",
       "1    2203\n",
       "2    1290\n",
       "5     291\n",
       "4      46\n",
       "Name: count, dtype: int64"
      ]
     },
     "execution_count": 26,
     "metadata": {},
     "output_type": "execute_result"
    }
   ],
   "source": [
    "# most common round number\n",
    "stats[\"round\"].value_counts()"
   ]
  },
  {
   "cell_type": "markdown",
   "metadata": {},
   "source": [
    "### Fight location"
   ]
  },
  {
   "cell_type": "code",
   "execution_count": 29,
   "metadata": {},
   "outputs": [
    {
     "data": {
      "text/plain": [
       "array(['Abu Dhabi, Abu Dhabi, United Arab Emirates',\n",
       "       'Las Vegas, Nevada, USA', 'Salt Lake City, Utah, USA',\n",
       "       'Paris, Ile-de-France, France',\n",
       "       'Perth, Western Australia, Australia',\n",
       "       'Manchester, England, United Kingdom', 'Denver, Colorado, USA',\n",
       "       'Riyadh, Riyadh, Saudi Arabia', 'Louisville, Kentucky, USA',\n",
       "       'Newark, New Jersey, USA', 'St. Louis, Missouri, USA',\n",
       "       'Rio de Janeiro, Rio de Janeiro, Brazil',\n",
       "       'Atlantic City, New Jersey, USA', 'Miami, Florida, USA',\n",
       "       'Mexico City, Distrito Federal, Mexico',\n",
       "       'Anaheim, California, USA', 'Toronto, Ontario, Canada',\n",
       "       'Austin, Texas, USA', 'New York City, New York, USA',\n",
       "       'Sao Paulo, Sao Paulo, Brazil',\n",
       "       'Sydney, New South Wales, Australia', 'Kallang, Singapore',\n",
       "       'Boston, Massachusetts, USA', 'Nashville, Tennessee, USA',\n",
       "       'London, England, United Kingdom', 'Jacksonville, Florida, USA',\n",
       "       'Vancouver, British Columbia, Canada',\n",
       "       'Charlotte, North Carolina, USA', 'Kansas City, Missouri, USA',\n",
       "       'San Antonio, Texas, USA', 'Orlando, Florida, USA',\n",
       "       'San Diego, California, USA', 'Dallas, Texas, USA',\n",
       "       'Elmont, New York, USA', 'Phoenix, Arizona, USA',\n",
       "       'Columbus, Ohio, USA', 'Houston, Texas, USA',\n",
       "       'Glendale, Arizona, USA', 'Brasilia, Distrito Federal, Brazil',\n",
       "       'Norfolk, Virginia, USA', 'Auckland, New Zealand',\n",
       "       'Rio Rancho, New Mexico, USA', 'Raleigh, North Carolina, USA',\n",
       "       'Busan, South Korea', 'Washington, DC, USA',\n",
       "       'Moscow, Moscow, Russia', 'Tampa, Florida, USA',\n",
       "       'Melbourne, Victoria, Australia', 'Copenhagen, Denmark',\n",
       "       'Shenzhen, Guangdong, China', 'Montevideo, Uruguay',\n",
       "       'Edmonton, Alberta, Canada', 'Sacramento, California, USA',\n",
       "       'Minneapolis, Minnesota, USA', 'Greenville, South Carolina, USA',\n",
       "       'Chicago, Illinois, USA', 'Stockholm, Sweden',\n",
       "       'Rochester, New York, USA', 'Ottawa, Ontario, Canada',\n",
       "       'Sunrise, Florida, USA',\n",
       "       'Saint Petersburg, Saint Petersburg, Russia',\n",
       "       'Atlanta, Georgia, USA', 'Philadelphia, Pennsylvania, USA',\n",
       "       'Wichita, Kansas, USA', 'Prague, Czech Republic',\n",
       "       'Fortaleza, Ceara, Brazil', 'Brooklyn, New York, USA',\n",
       "       'Los Angeles, California, USA', 'Milwaukee, Wisconsin, USA',\n",
       "       'Adelaide, South Australia, Australia', 'Beijing, China',\n",
       "       'Buenos Aires, Buenos Aires, Argentina',\n",
       "       'Moncton, New Brunswick, Canada', 'Lincoln, Nebraska, USA',\n",
       "       'Calgary, Alberta, Canada', 'Hamburg, Hamburg, Germany',\n",
       "       'Boise, Idaho, USA', 'Utica, New York, USA',\n",
       "       'Liverpool, England, United Kingdom', 'Santiago, Chile',\n",
       "       'Belem, Para, Brazil', 'Winnipeg, Manitoba, Canada',\n",
       "       'Fresno, California, USA', 'Detroit, Michigan, USA',\n",
       "       'Shanghai, Hebei, China', 'Gdansk, Poland',\n",
       "       'Saitama, Saitama, Japan', 'Pittsburgh, Pennsylvania, USA',\n",
       "       'Rotterdam, Zuid-Holland, Netherlands', 'Uniondale, New York, USA',\n",
       "       'Glasgow, Scotland, United Kingdom',\n",
       "       'Oklahoma City, Oklahoma, USA', 'Buffalo, New York, USA',\n",
       "       'Halifax, Nova Scotia, Canada', 'Albany, New York, USA',\n",
       "       'Belfast, Northern Ireland, United Kingdom',\n",
       "       'Portland, Oregon, USA', 'Hidalgo, Texas, USA',\n",
       "       'Cleveland, Ohio, USA', 'Sioux Falls, South Dakota, USA',\n",
       "       'Curitiba, Parana, Brazil', 'Zagreb, Croatia',\n",
       "       'Brisbane, Queensland, Australia', 'Seoul, South Korea',\n",
       "       'Monterrey, Nuevo Leon, Mexico', 'Dublin, Leinster, Ireland',\n",
       "       'Saitama, Japan', 'Saskatoon, Saskatchewan, Canada',\n",
       "       'Hollywood, Florida, USA', 'Berlin, Berlin, Germany',\n",
       "       'New Orleans, Louisiana, USA', 'Goiania, Goias, Brazil',\n",
       "       'Manila, Philippines', 'Montreal, Quebec, Canada',\n",
       "       'Krakow, Poland', 'Fairfax, Virginia, USA',\n",
       "       'Rio de Janeiro, Brazil',\n",
       "       'Porto Alegre, Rio Grande do Sul, Brazil',\n",
       "       'Broomfield, Colorado, USA', 'Barueri, Sao Paulo, Brazil',\n",
       "       'Uberlandia, Minas Gerais, Brazil', 'Ledyard, Connecticut, USA',\n",
       "       'Tulsa, Oklahoma, USA', 'Macau, China', 'Bangor, Maine, USA',\n",
       "       'San Jose, California, USA', 'Albuquerque, New Mexico, USA',\n",
       "       'Sao Paulo, Brazil', 'Berlin, Germany', 'Cincinnati, Ohio, USA',\n",
       "       'Baltimore, Maryland, USA', 'Quebec City, Quebec, Canada',\n",
       "       'Abu Dhabi, United Arab Emirates',\n",
       "       'Natal, Rio Grande do Norte, Brazil',\n",
       "       'Jaragua do Sul, Santa Catarina, Brazil', 'Duluth, Georgia, USA',\n",
       "       'Singapore, Singapore', 'Fort Campbell, Kentucky, USA',\n",
       "       'Belo Horizonte, Minas Gerais, Brazil',\n",
       "       'Indianapolis, Indiana, USA', 'Seattle, Washington, USA',\n",
       "       'Gold Coast, Queensland, Australia',\n",
       "       'Nottingham, England, United Kingdom',\n",
       "       'East Rutherford, New Jersey, USA', 'Omaha, Nebraska, USA',\n",
       "       'Birmingham, England, United Kingdom', 'Killeen, Texas, USA',\n",
       "       'Auburn Hills, Michigan, USA',\n",
       "       'Oberhausen, North Rhine-Westphalia, Germany',\n",
       "       'Oakland, California, USA', 'Memphis, Tennessee, USA',\n",
       "       'Cologne, North Rhine-Westphalia, Germany',\n",
       "       'Fayetteville, North Carolina, USA', 'Rosemont, Illinois, USA',\n",
       "       'Newcastle, England, United Kingdom',\n",
       "       'Uncasville, Connecticut, USA', 'Bossier City, Louisiana, USA',\n",
       "       'Tokyo, Japan', 'Cedar Rapids, Iowa, USA',\n",
       "       'Lake Charles, Louisiana, USA', 'Chiba, Japan',\n",
       "       'Birmingham, Alabama, USA', 'Bay St. Louis, Mississippi, USA',\n",
       "       'Mobile, Alabama, USA', 'Yokohama, Kanagawa, Japan',\n",
       "       'Augusta, Georgia, USA', 'Dothan, Alabama, USA',\n",
       "       'San Juan, Puerto Rico', 'Casper, Wyoming, USA'], dtype=object)"
      ]
     },
     "execution_count": 29,
     "metadata": {},
     "output_type": "execute_result"
    }
   ],
   "source": [
    "stats[\"event_location\"].unique()"
   ]
  },
  {
   "cell_type": "code",
   "execution_count": 30,
   "metadata": {},
   "outputs": [],
   "source": [
    "# split location to city and country\n",
    "stats[\"city\"] = stats[\"event_location\"].apply(lambda x: x.split(\",\")[0])\n",
    "stats[\"country\"] = stats[\"event_location\"].apply(lambda x: x.split(\",\")[1]) # in usa it's state"
   ]
  },
  {
   "cell_type": "code",
   "execution_count": 31,
   "metadata": {},
   "outputs": [
    {
     "data": {
      "text/plain": [
       "city\n",
       "Las Vegas         2609\n",
       "Abu Dhabi          233\n",
       "London             166\n",
       "Rio de Janeiro     146\n",
       "Newark             112\n",
       "Anaheim            105\n",
       "Houston            103\n",
       "Sao Paulo           99\n",
       "Atlantic City       91\n",
       "Toronto             86\n",
       "Name: count, dtype: int64"
      ]
     },
     "execution_count": 31,
     "metadata": {},
     "output_type": "execute_result"
    }
   ],
   "source": [
    "# most common cities\n",
    "stats[\"city\"].value_counts().head(10)"
   ]
  },
  {
   "cell_type": "code",
   "execution_count": 32,
   "metadata": {},
   "outputs": [
    {
     "data": {
      "text/plain": [
       "country\n",
       "Nevada        2609\n",
       "California     353\n",
       "Texas          292\n",
       "England        275\n",
       "Florida        249\n",
       "New Jersey     223\n",
       "Abu Dhabi      216\n",
       "New York       201\n",
       "Ontario        111\n",
       "Colorado       110\n",
       "Name: count, dtype: int64"
      ]
     },
     "execution_count": 32,
     "metadata": {},
     "output_type": "execute_result"
    }
   ],
   "source": [
    "# most common countries\n",
    "stats[\"country\"].value_counts().head(10)"
   ]
  },
  {
   "cell_type": "markdown",
   "metadata": {},
   "source": [
    "### Fighters"
   ]
  },
  {
   "cell_type": "code",
   "execution_count": 34,
   "metadata": {},
   "outputs": [
    {
     "data": {
      "text/html": [
       "<div>\n",
       "<style scoped>\n",
       "    .dataframe tbody tr th:only-of-type {\n",
       "        vertical-align: middle;\n",
       "    }\n",
       "\n",
       "    .dataframe tbody tr th {\n",
       "        vertical-align: top;\n",
       "    }\n",
       "\n",
       "    .dataframe thead th {\n",
       "        text-align: right;\n",
       "    }\n",
       "</style>\n",
       "<table border=\"1\" class=\"dataframe\">\n",
       "  <thead>\n",
       "    <tr style=\"text-align: right;\">\n",
       "      <th></th>\n",
       "      <th>fighter</th>\n",
       "      <th>result</th>\n",
       "      <th>nickname</th>\n",
       "      <th>event_date</th>\n",
       "    </tr>\n",
       "  </thead>\n",
       "  <tbody>\n",
       "    <tr>\n",
       "      <th>0</th>\n",
       "      <td>ILIA TOPURIA</td>\n",
       "      <td>W</td>\n",
       "      <td>El Matador</td>\n",
       "      <td>26/10/2024</td>\n",
       "    </tr>\n",
       "    <tr>\n",
       "      <th>1</th>\n",
       "      <td>ROBERT WHITTAKER</td>\n",
       "      <td>L</td>\n",
       "      <td>The Reaper</td>\n",
       "      <td>26/10/2024</td>\n",
       "    </tr>\n",
       "    <tr>\n",
       "      <th>2</th>\n",
       "      <td>MAGOMED ANKALAEV</td>\n",
       "      <td>W</td>\n",
       "      <td>-</td>\n",
       "      <td>26/10/2024</td>\n",
       "    </tr>\n",
       "    <tr>\n",
       "      <th>3</th>\n",
       "      <td>LERONE MURPHY</td>\n",
       "      <td>W</td>\n",
       "      <td>The Miracle</td>\n",
       "      <td>26/10/2024</td>\n",
       "    </tr>\n",
       "    <tr>\n",
       "      <th>4</th>\n",
       "      <td>SHARA MAGOMEDOV</td>\n",
       "      <td>W</td>\n",
       "      <td>Bullet</td>\n",
       "      <td>26/10/2024</td>\n",
       "    </tr>\n",
       "  </tbody>\n",
       "</table>\n",
       "</div>"
      ],
      "text/plain": [
       "            fighter result     nickname  event_date\n",
       "0      ILIA TOPURIA      W   El Matador  26/10/2024\n",
       "1  ROBERT WHITTAKER      L   The Reaper  26/10/2024\n",
       "2  MAGOMED ANKALAEV      W            -  26/10/2024\n",
       "3     LERONE MURPHY      W  The Miracle  26/10/2024\n",
       "4   SHARA MAGOMEDOV      W       Bullet  26/10/2024"
      ]
     },
     "execution_count": 34,
     "metadata": {},
     "output_type": "execute_result"
    }
   ],
   "source": [
    "# transform the stats dataset to have one row per figher \n",
    "# - red_fighter_name and blue_fighter_name = fighter\n",
    "# - red_fighter_result and blue_fighter_result = result\n",
    "# - red_fighter_nickname and blue_fighter_nickname = nickname\n",
    "# - keep event_date\n",
    "\n",
    "fighters = pd.DataFrame()\n",
    "fighters[\"fighter\"] = pd.concat([stats[\"red_fighter_name\"], stats[\"blue_fighter_name\"]])\n",
    "fighters[\"result\"] = pd.concat([stats[\"red_fighter_result\"], stats[\"blue_fighter_result\"]])\n",
    "fighters[\"nickname\"] = pd.concat([stats[\"red_fighter_nickname\"], stats[\"blue_fighter_nickname\"]])\n",
    "fighters[\"event_date\"] = stats[\"event_date\"].reset_index(drop=True)\n",
    "\n",
    "fighters.head()"
   ]
  },
  {
   "cell_type": "code",
   "execution_count": 38,
   "metadata": {},
   "outputs": [
    {
     "data": {
      "text/plain": [
       "fighter\n",
       "JIM MILLER          43\n",
       "ANDREI ARLOVSKI     41\n",
       "DONALD CERRONE      37\n",
       "CLAY GUIDA          36\n",
       "RAFAEL DOS ANJOS    36\n",
       "JEREMY STEPHENS     33\n",
       "DEMIAN MAIA         33\n",
       "NEIL MAGNY          33\n",
       "CHARLES OLIVEIRA    32\n",
       "DIEGO SANCHEZ       32\n",
       "Name: count, dtype: int64"
      ]
     },
     "execution_count": 38,
     "metadata": {},
     "output_type": "execute_result"
    }
   ],
   "source": [
    "# fighter with the most fights\n",
    "fighters[\"fighter\"].value_counts().head(10)"
   ]
  },
  {
   "cell_type": "code",
   "execution_count": 39,
   "metadata": {},
   "outputs": [
    {
     "data": {
      "text/plain": [
       "fighter\n",
       "JIM MILLER          26\n",
       "DONALD CERRONE      23\n",
       "ANDREI ARLOVSKI     23\n",
       "NEIL MAGNY          22\n",
       "DUSTIN POIRIER      22\n",
       "CHARLES OLIVEIRA    22\n",
       "MAX HOLLOWAY        22\n",
       "DEMIAN MAIA         22\n",
       "JON JONES           21\n",
       "RAFAEL DOS ANJOS    21\n",
       "Name: count, dtype: int64"
      ]
     },
     "execution_count": 39,
     "metadata": {},
     "output_type": "execute_result"
    }
   ],
   "source": [
    "# fighter with the most wins (result == \"W\")\n",
    "fighters[fighters[\"result\"] == \"W\"][\"fighter\"].value_counts().head(10)"
   ]
  },
  {
   "cell_type": "code",
   "execution_count": 40,
   "metadata": {},
   "outputs": [
    {
     "data": {
      "text/plain": [
       "fighter\n",
       "JEREMY STEPHENS       18\n",
       "ANDREI ARLOVSKI       18\n",
       "CLAY GUIDA            18\n",
       "JIM MILLER            17\n",
       "RAFAEL DOS ANJOS      15\n",
       "MICHAEL JOHNSON       15\n",
       "DONALD CERRONE        14\n",
       "ANGELA HILL           14\n",
       "TIM MEANS             14\n",
       "OVINCE SAINT PREUX    13\n",
       "Name: count, dtype: int64"
      ]
     },
     "execution_count": 40,
     "metadata": {},
     "output_type": "execute_result"
    }
   ],
   "source": [
    "# fighter with the most losses (result == \"L\")\n",
    "fighters[fighters[\"result\"] == \"L\"][\"fighter\"].value_counts().head(10)"
   ]
  },
  {
   "cell_type": "code",
   "execution_count": 46,
   "metadata": {},
   "outputs": [
    {
     "data": {
      "text/plain": [
       "fighter\n",
       "UMAR NURMAGOMEDOV        1.000000\n",
       "JACK DELLA MADDALENA     1.000000\n",
       "NATALIA SILVA            1.000000\n",
       "CAIO BORRALHO            1.000000\n",
       "TATIANA SUAREZ           1.000000\n",
       "PADDY PIMBLETT           1.000000\n",
       "MANON FIOROT             1.000000\n",
       "LERONE MURPHY            1.000000\n",
       "KHAMZAT CHIMAEV          1.000000\n",
       "KHABIB NURMAGOMEDOV      1.000000\n",
       "MUHAMMAD MOKAEV          1.000000\n",
       "DRICUS DU PLESSIS        1.000000\n",
       "ZABIT MAGOMEDSHARIPOV    1.000000\n",
       "SHAVKAT RAKHMONOV        1.000000\n",
       "MOVSAR EVLOEV            1.000000\n",
       "IAN MACHADO GARRY        1.000000\n",
       "ILIA TOPURIA             1.000000\n",
       "JON JONES                0.954545\n",
       "ISLAM MAKHACHEV          0.937500\n",
       "MAGOMED ANKALAEV         0.916667\n",
       "Name: result, dtype: float64"
      ]
     },
     "execution_count": 46,
     "metadata": {},
     "output_type": "execute_result"
    }
   ],
   "source": [
    "# fighter with the best win ratio\n",
    "# fighters with more than 4 fights\n",
    "fighters_5 = fighters[\"fighter\"].value_counts()[fighters[\"fighter\"].value_counts() > 5].index\n",
    "fighters_5 = fighters[fighters[\"fighter\"].isin(fighters_5)]\n",
    "\n",
    "win_ratio = fighters_5.groupby(\"fighter\")[\"result\"].apply(lambda x: x[x == \"W\"].count() / x.count()).sort_values(ascending=False)\n",
    "win_ratio.head(20)"
   ]
  },
  {
   "cell_type": "markdown",
   "metadata": {},
   "source": [
    "### Punches landed analysis (body, leg, head...)"
   ]
  },
  {
   "cell_type": "code",
   "execution_count": 49,
   "metadata": {},
   "outputs": [],
   "source": [
    "    #   'red_fighter_sig_str', 'blue_fighter_sig_str',\n",
    "    #    'red_fighter_sig_str_pct', 'blue_fighter_sig_str_pct',\n",
    "    #    'red_fighter_total_str', 'blue_fighter_total_str', 'red_fighter_TD',\n",
    "    #    'blue_fighter_TD', 'red_fighter_TD_pct', 'blue_fighter_TD_pct',\n",
    "    #    'red_fighter_sub_att', 'blue_fighter_sub_att', 'red_fighter_rev',\n",
    "    #    'blue_fighter_rev', 'red_fighter_ctrl', 'blue_fighter_ctrl',\n",
    "    #    'red_fighter_sig_str_head', 'blue_fighter_sig_str_head',\n",
    "    #    'red_fighter_sig_str_body', 'blue_fighter_sig_str_body',\n",
    "    #    'red_fighter_sig_str_leg', 'blue_fighter_sig_str_leg',\n",
    "    #    'red_fighter_sig_str_distance', 'blue_fighter_sig_str_distance',\n",
    "    #    'red_fighter_sig_str_clinch', 'blue_fighter_sig_str_clinch',\n",
    "    #    'red_fighter_sig_str_ground', 'blue_fighter_sig_str_ground',\n",
    "    #    'red_fighter_sig_str_head_pct', 'blue_fighter_sig_str_head_pct',\n",
    "    #    'red_fighter_sig_str_body_pct', 'blue_fighter_sig_str_body_pct',\n",
    "    #    'red_fighter_sig_str_leg_pct', 'blue_fighter_sig_str_leg_pct',\n",
    "    #    'red_fighter_sig_str_distance_pct', 'blue_fighter_sig_str_distance_pct',\n",
    "    #    'red_fighter_sig_str_clinch_pct', 'blue_fighter_sig_str_clinch_pct',\n",
    "    #    'red_fighter_sig_str_ground_pct', 'blue_fighter_sig_str_ground_pct'\n",
    "\n",
    "# TODO understand the columns and create some plots"
   ]
  },
  {
   "cell_type": "markdown",
   "metadata": {},
   "source": [
    "## Score cards"
   ]
  },
  {
   "cell_type": "code",
   "execution_count": 5,
   "metadata": {},
   "outputs": [
    {
     "data": {
      "text/html": [
       "<div>\n",
       "<style scoped>\n",
       "    .dataframe tbody tr th:only-of-type {\n",
       "        vertical-align: middle;\n",
       "    }\n",
       "\n",
       "    .dataframe tbody tr th {\n",
       "        vertical-align: top;\n",
       "    }\n",
       "\n",
       "    .dataframe thead th {\n",
       "        text-align: right;\n",
       "    }\n",
       "</style>\n",
       "<table border=\"1\" class=\"dataframe\">\n",
       "  <thead>\n",
       "    <tr style=\"text-align: right;\">\n",
       "      <th></th>\n",
       "      <th>red_fighter_name</th>\n",
       "      <th>blue_fighter_name</th>\n",
       "      <th>event_date</th>\n",
       "      <th>red_fighter_total_pts</th>\n",
       "      <th>blue_fighter_total_pts</th>\n",
       "    </tr>\n",
       "  </thead>\n",
       "  <tbody>\n",
       "    <tr>\n",
       "      <th>0</th>\n",
       "      <td>POLIANA BOTELHO</td>\n",
       "      <td>LUANA CAROLINA</td>\n",
       "      <td>01/05/2021</td>\n",
       "      <td>29 28 28</td>\n",
       "      <td>28 29 29</td>\n",
       "    </tr>\n",
       "    <tr>\n",
       "      <th>1</th>\n",
       "      <td>KAI KAMAKA</td>\n",
       "      <td>TJ BROWN</td>\n",
       "      <td>01/05/2021</td>\n",
       "      <td>28 28 30</td>\n",
       "      <td>29 29 27</td>\n",
       "    </tr>\n",
       "    <tr>\n",
       "      <th>2</th>\n",
       "      <td>MERAB DVALISHVILI</td>\n",
       "      <td>CODY STAMANN</td>\n",
       "      <td>01/05/2021</td>\n",
       "      <td>30 29 29</td>\n",
       "      <td>27 28 28</td>\n",
       "    </tr>\n",
       "    <tr>\n",
       "      <th>3</th>\n",
       "      <td>RANDA MARKOS</td>\n",
       "      <td>LUANA PINHEIRO</td>\n",
       "      <td>01/05/2021</td>\n",
       "      <td>- - -</td>\n",
       "      <td>- - -</td>\n",
       "    </tr>\n",
       "    <tr>\n",
       "      <th>4</th>\n",
       "      <td>ANDREAS MICHAILIDIS</td>\n",
       "      <td>KB BHULLAR</td>\n",
       "      <td>01/05/2021</td>\n",
       "      <td>29 30 30</td>\n",
       "      <td>28 27 27</td>\n",
       "    </tr>\n",
       "  </tbody>\n",
       "</table>\n",
       "</div>"
      ],
      "text/plain": [
       "      red_fighter_name blue_fighter_name  event_date red_fighter_total_pts  \\\n",
       "0      POLIANA BOTELHO    LUANA CAROLINA  01/05/2021              29 28 28   \n",
       "1           KAI KAMAKA          TJ BROWN  01/05/2021              28 28 30   \n",
       "2    MERAB DVALISHVILI      CODY STAMANN  01/05/2021              30 29 29   \n",
       "3         RANDA MARKOS    LUANA PINHEIRO  01/05/2021                 - - -   \n",
       "4  ANDREAS MICHAILIDIS        KB BHULLAR  01/05/2021              29 30 30   \n",
       "\n",
       "  blue_fighter_total_pts  \n",
       "0               28 29 29  \n",
       "1               29 29 27  \n",
       "2               27 28 28  \n",
       "3                  - - -  \n",
       "4               28 27 27  "
      ]
     },
     "execution_count": 5,
     "metadata": {},
     "output_type": "execute_result"
    }
   ],
   "source": [
    "scorecards = pd.read_csv(\"scorecards/scorecards.csv\", sep=\";\")\n",
    "scorecards.head()"
   ]
  },
  {
   "cell_type": "code",
   "execution_count": null,
   "metadata": {},
   "outputs": [],
   "source": []
  },
  {
   "cell_type": "markdown",
   "metadata": {},
   "source": [
    "## NLP analysis of ufc fighter nicknames"
   ]
  },
  {
   "cell_type": "code",
   "execution_count": 63,
   "metadata": {},
   "outputs": [
    {
     "data": {
      "text/html": [
       "<div>\n",
       "<style scoped>\n",
       "    .dataframe tbody tr th:only-of-type {\n",
       "        vertical-align: middle;\n",
       "    }\n",
       "\n",
       "    .dataframe tbody tr th {\n",
       "        vertical-align: top;\n",
       "    }\n",
       "\n",
       "    .dataframe thead th {\n",
       "        text-align: right;\n",
       "    }\n",
       "</style>\n",
       "<table border=\"1\" class=\"dataframe\">\n",
       "  <thead>\n",
       "    <tr style=\"text-align: right;\">\n",
       "      <th></th>\n",
       "      <th>fighter</th>\n",
       "      <th>nickname</th>\n",
       "    </tr>\n",
       "  </thead>\n",
       "  <tbody>\n",
       "    <tr>\n",
       "      <th>470</th>\n",
       "      <td>WELLINGTON TURMAN</td>\n",
       "      <td>The Prodigy</td>\n",
       "    </tr>\n",
       "    <tr>\n",
       "      <th>7528</th>\n",
       "      <td>TEDD WILLIAMS</td>\n",
       "      <td>-</td>\n",
       "    </tr>\n",
       "    <tr>\n",
       "      <th>7719</th>\n",
       "      <td>TODD MEDINA</td>\n",
       "      <td>El Tiburon</td>\n",
       "    </tr>\n",
       "    <tr>\n",
       "      <th>534</th>\n",
       "      <td>NATE MANESS</td>\n",
       "      <td>Mayhem</td>\n",
       "    </tr>\n",
       "    <tr>\n",
       "      <th>634</th>\n",
       "      <td>MICHAEL CHIESA</td>\n",
       "      <td>Maverick</td>\n",
       "    </tr>\n",
       "    <tr>\n",
       "      <th>3741</th>\n",
       "      <td>RONY JASON</td>\n",
       "      <td>-</td>\n",
       "    </tr>\n",
       "    <tr>\n",
       "      <th>5363</th>\n",
       "      <td>PAT HEALY</td>\n",
       "      <td>Bam Bam</td>\n",
       "    </tr>\n",
       "    <tr>\n",
       "      <th>1884</th>\n",
       "      <td>SHANA DOBSON</td>\n",
       "      <td>Danger</td>\n",
       "    </tr>\n",
       "    <tr>\n",
       "      <th>5943</th>\n",
       "      <td>JORGE RIVERA</td>\n",
       "      <td>El Conquistador</td>\n",
       "    </tr>\n",
       "    <tr>\n",
       "      <th>4190</th>\n",
       "      <td>ROBERT WHITEFORD</td>\n",
       "      <td>The Hammer</td>\n",
       "    </tr>\n",
       "    <tr>\n",
       "      <th>2947</th>\n",
       "      <td>DARREN STEWART</td>\n",
       "      <td>The Dentist</td>\n",
       "    </tr>\n",
       "    <tr>\n",
       "      <th>7729</th>\n",
       "      <td>RON VAN CLIEF</td>\n",
       "      <td>The Black Dragon</td>\n",
       "    </tr>\n",
       "    <tr>\n",
       "      <th>4456</th>\n",
       "      <td>REGINALDO VIEIRA</td>\n",
       "      <td>-</td>\n",
       "    </tr>\n",
       "    <tr>\n",
       "      <th>5697</th>\n",
       "      <td>JOEY GAMBINO</td>\n",
       "      <td>The Raging Warrior</td>\n",
       "    </tr>\n",
       "    <tr>\n",
       "      <th>7657</th>\n",
       "      <td>JULIAN SANCHEZ</td>\n",
       "      <td>-</td>\n",
       "    </tr>\n",
       "    <tr>\n",
       "      <th>7574</th>\n",
       "      <td>MIKEY BURNETT</td>\n",
       "      <td>The Eastside Assassin</td>\n",
       "    </tr>\n",
       "    <tr>\n",
       "      <th>7680</th>\n",
       "      <td>PAUL HERRERA</td>\n",
       "      <td>The Bone Crusher</td>\n",
       "    </tr>\n",
       "    <tr>\n",
       "      <th>311</th>\n",
       "      <td>CONNOR MATTHEWS</td>\n",
       "      <td>The Controller</td>\n",
       "    </tr>\n",
       "    <tr>\n",
       "      <th>33</th>\n",
       "      <td>JULIA POLASTRI</td>\n",
       "      <td>Psycho</td>\n",
       "    </tr>\n",
       "    <tr>\n",
       "      <th>7477</th>\n",
       "      <td>PAUL RODRIGUEZ</td>\n",
       "      <td>-</td>\n",
       "    </tr>\n",
       "  </tbody>\n",
       "</table>\n",
       "</div>"
      ],
      "text/plain": [
       "                fighter               nickname\n",
       "470   WELLINGTON TURMAN            The Prodigy\n",
       "7528      TEDD WILLIAMS                      -\n",
       "7719        TODD MEDINA             El Tiburon\n",
       "534         NATE MANESS                 Mayhem\n",
       "634      MICHAEL CHIESA               Maverick\n",
       "3741         RONY JASON                      -\n",
       "5363          PAT HEALY                Bam Bam\n",
       "1884       SHANA DOBSON                 Danger\n",
       "5943       JORGE RIVERA        El Conquistador\n",
       "4190   ROBERT WHITEFORD             The Hammer\n",
       "2947     DARREN STEWART            The Dentist\n",
       "7729      RON VAN CLIEF       The Black Dragon\n",
       "4456   REGINALDO VIEIRA                      -\n",
       "5697       JOEY GAMBINO     The Raging Warrior\n",
       "7657     JULIAN SANCHEZ                      -\n",
       "7574      MIKEY BURNETT  The Eastside Assassin\n",
       "7680       PAUL HERRERA       The Bone Crusher\n",
       "311     CONNOR MATTHEWS         The Controller\n",
       "33       JULIA POLASTRI                 Psycho\n",
       "7477     PAUL RODRIGUEZ                      -"
      ]
     },
     "execution_count": 63,
     "metadata": {},
     "output_type": "execute_result"
    }
   ],
   "source": [
    "nicknames = fighters[[\"fighter\", \"nickname\"]].drop_duplicates()\n",
    "# show 20 random nicknames\n",
    "nicknames.sample(20)"
   ]
  },
  {
   "cell_type": "code",
   "execution_count": 64,
   "metadata": {},
   "outputs": [
    {
     "name": "stderr",
     "output_type": "stream",
     "text": [
      "[nltk_data] Downloading package punkt to\n",
      "[nltk_data]     /Users/lucijaaleksic/nltk_data...\n",
      "[nltk_data]   Package punkt is already up-to-date!\n",
      "[nltk_data] Downloading package stopwords to\n",
      "[nltk_data]     /Users/lucijaaleksic/nltk_data...\n",
      "[nltk_data]   Package stopwords is already up-to-date!\n"
     ]
    },
    {
     "data": {
      "text/plain": [
       "True"
      ]
     },
     "execution_count": 64,
     "metadata": {},
     "output_type": "execute_result"
    }
   ],
   "source": [
    "import nltk\n",
    "from nltk.corpus import stopwords\n",
    "from nltk.tokenize import word_tokenize\n",
    "import string\n",
    "\n",
    "nltk.download('punkt')\n",
    "nltk.download('stopwords')"
   ]
  },
  {
   "cell_type": "code",
   "execution_count": 67,
   "metadata": {},
   "outputs": [
    {
     "data": {
      "text/html": [
       "<div>\n",
       "<style scoped>\n",
       "    .dataframe tbody tr th:only-of-type {\n",
       "        vertical-align: middle;\n",
       "    }\n",
       "\n",
       "    .dataframe tbody tr th {\n",
       "        vertical-align: top;\n",
       "    }\n",
       "\n",
       "    .dataframe thead th {\n",
       "        text-align: right;\n",
       "    }\n",
       "</style>\n",
       "<table border=\"1\" class=\"dataframe\">\n",
       "  <thead>\n",
       "    <tr style=\"text-align: right;\">\n",
       "      <th></th>\n",
       "      <th>fighter</th>\n",
       "      <th>nickname</th>\n",
       "      <th>clean</th>\n",
       "      <th>tokens</th>\n",
       "    </tr>\n",
       "  </thead>\n",
       "  <tbody>\n",
       "    <tr>\n",
       "      <th>0</th>\n",
       "      <td>ILIA TOPURIA</td>\n",
       "      <td>El Matador</td>\n",
       "      <td>El Matador</td>\n",
       "      <td>[El, Matador]</td>\n",
       "    </tr>\n",
       "    <tr>\n",
       "      <th>1</th>\n",
       "      <td>ROBERT WHITTAKER</td>\n",
       "      <td>The Reaper</td>\n",
       "      <td>Reaper</td>\n",
       "      <td>[The, Reaper]</td>\n",
       "    </tr>\n",
       "    <tr>\n",
       "      <th>2</th>\n",
       "      <td>MAGOMED ANKALAEV</td>\n",
       "      <td>-</td>\n",
       "      <td></td>\n",
       "      <td>[]</td>\n",
       "    </tr>\n",
       "    <tr>\n",
       "      <th>3</th>\n",
       "      <td>LERONE MURPHY</td>\n",
       "      <td>The Miracle</td>\n",
       "      <td>Miracle</td>\n",
       "      <td>[The, Miracle]</td>\n",
       "    </tr>\n",
       "    <tr>\n",
       "      <th>4</th>\n",
       "      <td>SHARA MAGOMEDOV</td>\n",
       "      <td>Bullet</td>\n",
       "      <td>Bullet</td>\n",
       "      <td>[Bullet]</td>\n",
       "    </tr>\n",
       "  </tbody>\n",
       "</table>\n",
       "</div>"
      ],
      "text/plain": [
       "            fighter     nickname       clean          tokens\n",
       "0      ILIA TOPURIA   El Matador  El Matador   [El, Matador]\n",
       "1  ROBERT WHITTAKER   The Reaper      Reaper   [The, Reaper]\n",
       "2  MAGOMED ANKALAEV            -                          []\n",
       "3     LERONE MURPHY  The Miracle     Miracle  [The, Miracle]\n",
       "4   SHARA MAGOMEDOV       Bullet      Bullet        [Bullet]"
      ]
     },
     "execution_count": 67,
     "metadata": {},
     "output_type": "execute_result"
    }
   ],
   "source": [
    "def preprocess_nickname(nickname):\n",
    "    # remove punctuation\n",
    "    nickname = nickname.translate(str.maketrans('', '', string.punctuation))\n",
    "    # remove stopwords\n",
    "    stop_words = set(stopwords.words('english'))\n",
    "    word_tokens = word_tokenize(nickname)\n",
    "    filtered_sentence = [w for w in word_tokens if not w.lower() in stop_words]\n",
    "    filteres_sentence = \" \".join(filtered_sentence)\n",
    "    return filtered_sentence, word_tokens\n",
    "\n",
    "clean = []\n",
    "tokens = []\n",
    "for nickname in nicknames[\"nickname\"]:\n",
    "    filtered_sentence, word_tokens = preprocess_nickname(nickname)\n",
    "    clean.append(\" \".join(filtered_sentence))\n",
    "    tokens.append(word_tokens)\n",
    "    \n",
    "nicknames[\"clean\"] = clean\n",
    "nicknames[\"tokens\"] = tokens\n",
    "nicknames.head()"
   ]
  },
  {
   "cell_type": "markdown",
   "metadata": {},
   "source": [
    "### Extract themes"
   ]
  },
  {
   "cell_type": "code",
   "execution_count": 68,
   "metadata": {},
   "outputs": [],
   "source": [
    "from sklearn.feature_extraction.text import TfidfVectorizer\n",
    "\n",
    "# Create TF-IDF features\n",
    "vectorizer = TfidfVectorizer()\n",
    "tfidf_matrix = vectorizer.fit_transform(nicknames[\"clean\"])"
   ]
  },
  {
   "cell_type": "code",
   "execution_count": 71,
   "metadata": {},
   "outputs": [],
   "source": [
    "import spacy\n",
    "import numpy as np\n",
    "\n",
    "nlp = spacy.load('en_core_web_md') # load medium model for word vectors from spacy"
   ]
  },
  {
   "cell_type": "code",
   "execution_count": 72,
   "metadata": {},
   "outputs": [],
   "source": [
    "def get_mean_embedding(tokens):\n",
    "    doc = nlp(' '.join(tokens))\n",
    "    return doc.vector if doc.has_vector else np.zeros((300,))  # 300D embeddings\n",
    "\n",
    "nicknames[\"mean_embedding\"] = nicknames[\"tokens\"].apply(get_mean_embedding)"
   ]
  },
  {
   "cell_type": "code",
   "execution_count": 73,
   "metadata": {},
   "outputs": [
    {
     "name": "stderr",
     "output_type": "stream",
     "text": [
      "/Users/lucijaaleksic/anaconda3/envs/torch/lib/python3.10/site-packages/sklearn/cluster/_kmeans.py:1416: FutureWarning: The default value of `n_init` will change from 10 to 'auto' in 1.4. Set the value of `n_init` explicitly to suppress the warning\n",
      "  super()._check_params_vs_input(X, default_n_init=10)\n"
     ]
    }
   ],
   "source": [
    "# cluster themes\n",
    "from sklearn.cluster import KMeans\n",
    "\n",
    "n_themes = 5 # 5 themes\n",
    "\n",
    "kmeans = KMeans(n_clusters=n_themes, random_state=42)\n",
    "nicknames[\"theme\"] = kmeans.fit_predict(list(nicknames[\"mean_embedding\"]))"
   ]
  },
  {
   "cell_type": "code",
   "execution_count": 74,
   "metadata": {},
   "outputs": [
    {
     "data": {
      "text/html": [
       "<div>\n",
       "<style scoped>\n",
       "    .dataframe tbody tr th:only-of-type {\n",
       "        vertical-align: middle;\n",
       "    }\n",
       "\n",
       "    .dataframe tbody tr th {\n",
       "        vertical-align: top;\n",
       "    }\n",
       "\n",
       "    .dataframe thead th {\n",
       "        text-align: right;\n",
       "    }\n",
       "</style>\n",
       "<table border=\"1\" class=\"dataframe\">\n",
       "  <thead>\n",
       "    <tr style=\"text-align: right;\">\n",
       "      <th></th>\n",
       "      <th>fighter</th>\n",
       "      <th>nickname</th>\n",
       "      <th>clean</th>\n",
       "      <th>tokens</th>\n",
       "      <th>mean_embedding</th>\n",
       "      <th>theme</th>\n",
       "    </tr>\n",
       "  </thead>\n",
       "  <tbody>\n",
       "    <tr>\n",
       "      <th>0</th>\n",
       "      <td>ILIA TOPURIA</td>\n",
       "      <td>El Matador</td>\n",
       "      <td>El Matador</td>\n",
       "      <td>[El, Matador]</td>\n",
       "      <td>[0.48749995, 7.049445, 0.53784996, 5.5339847, ...</td>\n",
       "      <td>4</td>\n",
       "    </tr>\n",
       "    <tr>\n",
       "      <th>1</th>\n",
       "      <td>ROBERT WHITTAKER</td>\n",
       "      <td>The Reaper</td>\n",
       "      <td>Reaper</td>\n",
       "      <td>[The, Reaper]</td>\n",
       "      <td>[-3.3142, -0.536105, 2.961215, 1.251035, 4.468...</td>\n",
       "      <td>1</td>\n",
       "    </tr>\n",
       "    <tr>\n",
       "      <th>2</th>\n",
       "      <td>MAGOMED ANKALAEV</td>\n",
       "      <td>-</td>\n",
       "      <td></td>\n",
       "      <td>[]</td>\n",
       "      <td>[0.0, 0.0, 0.0, 0.0, 0.0, 0.0, 0.0, 0.0, 0.0, ...</td>\n",
       "      <td>3</td>\n",
       "    </tr>\n",
       "    <tr>\n",
       "      <th>3</th>\n",
       "      <td>LERONE MURPHY</td>\n",
       "      <td>The Miracle</td>\n",
       "      <td>Miracle</td>\n",
       "      <td>[The, Miracle]</td>\n",
       "      <td>[-3.1577048, -0.846745, 3.1719902, 0.51468, 5....</td>\n",
       "      <td>1</td>\n",
       "    </tr>\n",
       "    <tr>\n",
       "      <th>4</th>\n",
       "      <td>SHARA MAGOMEDOV</td>\n",
       "      <td>Bullet</td>\n",
       "      <td>Bullet</td>\n",
       "      <td>[Bullet]</td>\n",
       "      <td>[2.0197, 0.79179, 1.9666, -0.45024, 2.6072, 0....</td>\n",
       "      <td>0</td>\n",
       "    </tr>\n",
       "  </tbody>\n",
       "</table>\n",
       "</div>"
      ],
      "text/plain": [
       "            fighter     nickname       clean          tokens  \\\n",
       "0      ILIA TOPURIA   El Matador  El Matador   [El, Matador]   \n",
       "1  ROBERT WHITTAKER   The Reaper      Reaper   [The, Reaper]   \n",
       "2  MAGOMED ANKALAEV            -                          []   \n",
       "3     LERONE MURPHY  The Miracle     Miracle  [The, Miracle]   \n",
       "4   SHARA MAGOMEDOV       Bullet      Bullet        [Bullet]   \n",
       "\n",
       "                                      mean_embedding  theme  \n",
       "0  [0.48749995, 7.049445, 0.53784996, 5.5339847, ...      4  \n",
       "1  [-3.3142, -0.536105, 2.961215, 1.251035, 4.468...      1  \n",
       "2  [0.0, 0.0, 0.0, 0.0, 0.0, 0.0, 0.0, 0.0, 0.0, ...      3  \n",
       "3  [-3.1577048, -0.846745, 3.1719902, 0.51468, 5....      1  \n",
       "4  [2.0197, 0.79179, 1.9666, -0.45024, 2.6072, 0....      0  "
      ]
     },
     "execution_count": 74,
     "metadata": {},
     "output_type": "execute_result"
    }
   ],
   "source": [
    "nicknames.head()"
   ]
  },
  {
   "cell_type": "code",
   "execution_count": 75,
   "metadata": {},
   "outputs": [
    {
     "name": "stdout",
     "output_type": "stream",
     "text": [
      "Theme 0: capo, boi, anvil, billy, alex, anqa, card, blood, ais, astroboy\n",
      "Theme 1: bengal, cigano, colombian, 2tap, banger, bjj, custom, constrictor, blood, billy\n",
      "Theme 2: alpha, cigano, bidu, custom, banger, cassius, constrictor, billy, 2tap, blood\n",
      "Theme 3: corazon, bidu, 2tap, astroboy, body, bam, czarevitch, banger, crowbar, boston\n",
      "Theme 4: cowboyzinha, clutch, card, cop, bruiser, actionpacked, banger, bronxs, allamerican, bebezao\n"
     ]
    }
   ],
   "source": [
    "# name the themes\n",
    "def get_top_keywords(model, feature_names, n_top_words=10):\n",
    "    for i, center in enumerate(model.cluster_centers_):\n",
    "        keywords = [feature_names[j] for j in center.argsort()[-n_top_words:]]\n",
    "        print(f\"Theme {i}: {', '.join(keywords)}\")\n",
    "\n",
    "feature_names = vectorizer.get_feature_names_out()\n",
    "get_top_keywords(kmeans, feature_names)"
   ]
  }
 ],
 "metadata": {
  "kernelspec": {
   "display_name": "torch",
   "language": "python",
   "name": "python3"
  },
  "language_info": {
   "codemirror_mode": {
    "name": "ipython",
    "version": 3
   },
   "file_extension": ".py",
   "mimetype": "text/x-python",
   "name": "python",
   "nbconvert_exporter": "python",
   "pygments_lexer": "ipython3",
   "version": "3.10.13"
  }
 },
 "nbformat": 4,
 "nbformat_minor": 2
}
